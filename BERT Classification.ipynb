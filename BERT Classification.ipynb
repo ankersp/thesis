{
  "nbformat": 4,
  "nbformat_minor": 0,
  "metadata": {
    "colab": {
      "provenance": [],
      "gpuType": "T4",
      "toc_visible": true,
      "authorship_tag": "ABX9TyN4ON0Dh2KhtbtSm3rZnOp1",
      "include_colab_link": true
    },
    "kernelspec": {
      "name": "python3",
      "display_name": "Python 3"
    },
    "language_info": {
      "name": "python"
    },
    "accelerator": "GPU"
  },
  "cells": [
    {
      "cell_type": "markdown",
      "metadata": {
        "id": "view-in-github",
        "colab_type": "text"
      },
      "source": [
        "<a href=\"https://colab.research.google.com/github/ankersp/thesis/blob/main/BERT%20Classification.ipynb\" target=\"_parent\"><img src=\"https://colab.research.google.com/assets/colab-badge.svg\" alt=\"Open In Colab\"/></a>"
      ]
    },
    {
      "cell_type": "code",
      "execution_count": 1,
      "metadata": {
        "colab": {
          "base_uri": "https://localhost:8080/"
        },
        "id": "qF2MjB6xzzcr",
        "outputId": "89ff7983-768b-4538-c4ce-7f155cf8eac4"
      },
      "outputs": [
        {
          "output_type": "stream",
          "name": "stdout",
          "text": [
            "\u001b[?25l   \u001b[90m━━━━━━━━━━━━━━━━━━━━━━━━━━━━━━━━━━━━━━━━\u001b[0m \u001b[32m0.0/480.6 kB\u001b[0m \u001b[31m?\u001b[0m eta \u001b[36m-:--:--\u001b[0m\r\u001b[2K   \u001b[91m━━━━━━━━━━━━━━━━━━━━━━━━━━━━━━━━━━━━━━━\u001b[0m\u001b[90m╺\u001b[0m \u001b[32m471.0/480.6 kB\u001b[0m \u001b[31m31.1 MB/s\u001b[0m eta \u001b[36m0:00:01\u001b[0m\r\u001b[2K   \u001b[90m━━━━━━━━━━━━━━━━━━━━━━━━━━━━━━━━━━━━━━━━\u001b[0m \u001b[32m480.6/480.6 kB\u001b[0m \u001b[31m8.6 MB/s\u001b[0m eta \u001b[36m0:00:00\u001b[0m\n",
            "\u001b[?25h\u001b[?25l   \u001b[90m━━━━━━━━━━━━━━━━━━━━━━━━━━━━━━━━━━━━━━━━\u001b[0m \u001b[32m0.0/116.3 kB\u001b[0m \u001b[31m?\u001b[0m eta \u001b[36m-:--:--\u001b[0m\r\u001b[2K   \u001b[90m━━━━━━━━━━━━━━━━━━━━━━━━━━━━━━━━━━━━━━━━\u001b[0m \u001b[32m116.3/116.3 kB\u001b[0m \u001b[31m5.6 MB/s\u001b[0m eta \u001b[36m0:00:00\u001b[0m\n",
            "\u001b[?25h\u001b[?25l   \u001b[90m━━━━━━━━━━━━━━━━━━━━━━━━━━━━━━━━━━━━━━━━\u001b[0m \u001b[32m0.0/179.3 kB\u001b[0m \u001b[31m?\u001b[0m eta \u001b[36m-:--:--\u001b[0m\r\u001b[2K   \u001b[90m━━━━━━━━━━━━━━━━━━━━━━━━━━━━━━━━━━━━━━━━\u001b[0m \u001b[32m179.3/179.3 kB\u001b[0m \u001b[31m14.2 MB/s\u001b[0m eta \u001b[36m0:00:00\u001b[0m\n",
            "\u001b[2K   \u001b[90m━━━━━━━━━━━━━━━━━━━━━━━━━━━━━━━━━━━━━━━━\u001b[0m \u001b[32m134.8/134.8 kB\u001b[0m \u001b[31m5.4 MB/s\u001b[0m eta \u001b[36m0:00:00\u001b[0m\n",
            "\u001b[2K   \u001b[90m━━━━━━━━━━━━━━━━━━━━━━━━━━━━━━━━━━━━━━━━\u001b[0m \u001b[32m194.1/194.1 kB\u001b[0m \u001b[31m8.4 MB/s\u001b[0m eta \u001b[36m0:00:00\u001b[0m\n",
            "\u001b[?25h\u001b[31mERROR: pip's dependency resolver does not currently take into account all the packages that are installed. This behaviour is the source of the following dependency conflicts.\n",
            "gcsfs 2024.10.0 requires fsspec==2024.10.0, but you have fsspec 2024.9.0 which is incompatible.\u001b[0m\u001b[31m\n",
            "\u001b[2K   \u001b[90m━━━━━━━━━━━━━━━━━━━━━━━━━━━━━━━━━━━━━━━━\u001b[0m \u001b[32m179.6/179.6 kB\u001b[0m \u001b[31m8.8 MB/s\u001b[0m eta \u001b[36m0:00:00\u001b[0m\n",
            "\u001b[?25h\u001b[31mERROR: pip's dependency resolver does not currently take into account all the packages that are installed. This behaviour is the source of the following dependency conflicts.\n",
            "datasets 3.2.0 requires fsspec[http]<=2024.9.0,>=2023.1.0, but you have fsspec 2024.10.0 which is incompatible.\u001b[0m\u001b[31m\n",
            "\u001b[0m"
          ]
        }
      ],
      "source": [
        "# Install necessary libraries\n",
        "!pip install transformers accelerate datasets --quiet\n",
        "!pip install fsspec==2024.10.0 --quiet\n",
        "\n",
        "# Import required libraries\n",
        "import pandas as pd\n",
        "from transformers import pipeline\n",
        "from tqdm import tqdm\n",
        "\n",
        "# Hugging Face Transformers and Datasets\n",
        "import datasets\n",
        "from transformers import (\n",
        "    AutoModelForSequenceClassification,\n",
        "    AutoTokenizer,\n",
        "    pipeline,\n",
        "    DataCollatorWithPadding,\n",
        "    TrainingArguments,\n",
        "    Trainer,\n",
        "    EarlyStoppingCallback\n",
        ")\n"
      ]
    },
    {
      "cell_type": "code",
      "source": [
        "#Mount google drive\n",
        "from google.colab import drive\n",
        "drive.mount('/content/drive')\n"
      ],
      "metadata": {
        "colab": {
          "base_uri": "https://localhost:8080/"
        },
        "id": "6H7s_KP706wU",
        "outputId": "198f1a19-7816-4614-ee94-ef18132640c1"
      },
      "execution_count": 2,
      "outputs": [
        {
          "output_type": "stream",
          "name": "stdout",
          "text": [
            "Mounted at /content/drive\n"
          ]
        }
      ]
    },
    {
      "cell_type": "markdown",
      "source": [
        "# ESG classification"
      ],
      "metadata": {
        "id": "bXnuGLwwmqyh"
      }
    },
    {
      "cell_type": "code",
      "source": [
        "import pandas as pd\n",
        "\n",
        "# Specify the path to the file in Google Drive\n",
        "file_path = '/content/drive/My Drive/KU/kandidat/speciale/R/sentences_long_format.csv'\n",
        "data = pd.read_csv(file_path)\n"
      ],
      "metadata": {
        "id": "wS25asJS0074"
      },
      "execution_count": 7,
      "outputs": []
    },
    {
      "cell_type": "code",
      "source": [
        "from transformers import pipeline\n",
        "\n",
        "# Specify the paths to the fine-tuned models\n",
        "env_model_path = \"/content/drive/My Drive/KU/kandidat/speciale/R/finetuned_esgbert_env_model\"\n",
        "soc_model_path = \"/content/drive/My Drive/KU/kandidat/speciale/R/finetuned_esgbert_soc_model\"\n",
        "gov_model_path = \"/content/drive/My Drive/KU/kandidat/speciale/R/finetuned_esgbert_gov_model\"\n",
        "\n",
        "# Load pipelines for each ESG model\n",
        "env_pipeline = pipeline(\n",
        "    'text-classification',\n",
        "    model=env_model_path,\n",
        "    tokenizer=env_model_path,\n",
        "    device=0\n",
        ")\n",
        "\n",
        "soc_pipeline = pipeline(\n",
        "    'text-classification',\n",
        "    model=soc_model_path,\n",
        "    tokenizer=soc_model_path,\n",
        "    device=0\n",
        ")\n",
        "\n",
        "gov_pipeline = pipeline(\n",
        "    'text-classification',\n",
        "    model=gov_model_path,\n",
        "    tokenizer=gov_model_path,\n",
        "    device=0\n",
        ")\n",
        "\n",
        "# Verify the pipelines are loaded\n",
        "print(\"EnvironmentalBERT pipeline loaded.\")\n",
        "print(\"SocialBERT pipeline loaded.\")\n",
        "print(\"GovernanceBERT pipeline loaded.\")\n"
      ],
      "metadata": {
        "colab": {
          "base_uri": "https://localhost:8080/"
        },
        "id": "mzokyvab1aGr",
        "outputId": "e28a2f85-a30e-4f04-a701-d36db6569393"
      },
      "execution_count": 8,
      "outputs": [
        {
          "output_type": "stream",
          "name": "stderr",
          "text": [
            "Device set to use cuda:0\n",
            "Device set to use cuda:0\n",
            "Device set to use cuda:0\n"
          ]
        },
        {
          "output_type": "stream",
          "name": "stdout",
          "text": [
            "EnvironmentalBERT pipeline loaded.\n",
            "SocialBERT pipeline loaded.\n",
            "GovernanceBERT pipeline loaded.\n"
          ]
        }
      ]
    },
    {
      "cell_type": "code",
      "source": [
        "import pandas as pd\n",
        "from transformers import pipeline\n",
        "from tqdm import tqdm\n",
        "\n",
        "# Paths\n",
        "data_file_path = '/content/drive/My Drive/KU/kandidat/speciale/R/sentences_long_format.csv'\n",
        "save_file_path = '/content/drive/My Drive/KU/kandidat/speciale/R/esg_classifications.csv'\n",
        "\n",
        "# Model paths\n",
        "env_model_path = \"/content/drive/My Drive/KU/kandidat/speciale/R/finetuned_esgbert_env_model\"\n",
        "soc_model_path = \"/content/drive/My Drive/KU/kandidat/speciale/R/finetuned_esgbert_soc_model\"\n",
        "gov_model_path = \"/content/drive/My Drive/KU/kandidat/speciale/R/finetuned_esgbert_gov_model\"\n",
        "\n",
        "# Load dataset\n",
        "data = pd.read_csv(data_file_path)\n",
        "\n",
        "# Load existing results or start fresh\n",
        "try:\n",
        "    df_saved_results = pd.read_csv(save_file_path)\n",
        "    print(f\"Loaded saved results. Documents already processed: {df_saved_results['id'].nunique()}\")\n",
        "except FileNotFoundError:\n",
        "    print(\"No previous results found. Starting fresh.\")\n",
        "    df_saved_results = pd.DataFrame(columns=['id', 'text', 'env_label', 'env_score', 'soc_label', 'soc_score', 'gov_label', 'gov_score'])\n",
        "\n",
        "# Identify sentences that still need to be classified\n",
        "processed_ids = df_saved_results['id'].unique()\n",
        "remaining_data = data[~data['id'].isin(processed_ids)]\n",
        "\n",
        "# Load ESG pipelines\n",
        "env_pipeline = pipeline(\"text-classification\", model=env_model_path, tokenizer=env_model_path, device=0)\n",
        "soc_pipeline = pipeline(\"text-classification\", model=soc_model_path, tokenizer=soc_model_path, device=0)\n",
        "gov_pipeline = pipeline(\"text-classification\", model=gov_model_path, tokenizer=gov_model_path, device=0)\n",
        "\n",
        "# Function to classify ESG labels and save results\n",
        "def classify_esg(data, df_saved_results, env_pipeline, soc_pipeline, gov_pipeline, save_interval=1000, save_file_path=save_file_path):\n",
        "    all_results = []\n",
        "\n",
        "    try:\n",
        "        for start_idx in tqdm(range(0, data.shape[0], 32), desc=\"Classifying ESG\"):\n",
        "            batch = data.iloc[start_idx:start_idx + 32]\n",
        "            sentences = batch['sentences'].tolist()\n",
        "            ids = batch['id'].tolist()\n",
        "\n",
        "            # Classify batch for Environmental\n",
        "            env_classifications = env_pipeline(sentences, padding=True, truncation=True)\n",
        "\n",
        "            # Classify batch for Social\n",
        "            soc_classifications = soc_pipeline(sentences, padding=True, truncation=True)\n",
        "\n",
        "            # Classify batch for Governance\n",
        "            gov_classifications = gov_pipeline(sentences, padding=True, truncation=True)\n",
        "\n",
        "            for i in range(len(sentences)):\n",
        "                row_data = {\n",
        "                    \"id\": ids[i],\n",
        "                    \"text\": sentences[i],\n",
        "                    \"env_label\": env_classifications[i][\"label\"],\n",
        "                    \"env_score\": env_classifications[i][\"score\"],\n",
        "                    \"soc_label\": soc_classifications[i][\"label\"],\n",
        "                    \"soc_score\": soc_classifications[i][\"score\"],\n",
        "                    \"gov_label\": gov_classifications[i][\"label\"],\n",
        "                    \"gov_score\": gov_classifications[i][\"score\"]\n",
        "                }\n",
        "                all_results.append(row_data)\n",
        "\n",
        "            # Save intermediate results\n",
        "            if (start_idx // 32 + 1) % (save_interval // 32) == 0:\n",
        "                print(f\"Saving progress at batch {start_idx // 32 + 1}...\")\n",
        "                df_saved_results = pd.concat([df_saved_results, pd.DataFrame(all_results)], ignore_index=True)\n",
        "                df_saved_results.to_csv(save_file_path, index=False)\n",
        "                all_results = []\n",
        "\n",
        "        # Final save\n",
        "        if all_results:\n",
        "            df_saved_results = pd.concat([df_saved_results, pd.DataFrame(all_results)], ignore_index=True)\n",
        "            df_saved_results.to_csv(save_file_path, index=False)\n",
        "            print(f\"Final results saved to {save_file_path}\")\n",
        "\n",
        "    except Exception as e:\n",
        "        print(f\"An error occurred: {e}\")\n",
        "\n",
        "    return df_saved_results\n",
        "\n",
        "# Run classification\n",
        "if remaining_data.shape[0] > 0:\n",
        "    df_saved_results = classify_esg(remaining_data, df_saved_results, env_pipeline, soc_pipeline, gov_pipeline)\n",
        "else:\n",
        "    print(\"All sentences have already been classified.\")\n"
      ],
      "metadata": {
        "id": "icd9TKYt24FP",
        "colab": {
          "base_uri": "https://localhost:8080/"
        },
        "outputId": "b17bc2e1-c825-4d40-96d6-35a638c04c44"
      },
      "execution_count": 9,
      "outputs": [
        {
          "output_type": "stream",
          "name": "stdout",
          "text": [
            "No previous results found. Starting fresh.\n"
          ]
        },
        {
          "output_type": "stream",
          "name": "stderr",
          "text": [
            "Device set to use cuda:0\n",
            "Device set to use cuda:0\n",
            "Device set to use cuda:0\n",
            "Classifying ESG:   0%|          | 30/6169 [00:15<50:45,  2.02it/s]<ipython-input-9-4b9b46566c96>:69: FutureWarning: The behavior of DataFrame concatenation with empty or all-NA entries is deprecated. In a future version, this will no longer exclude empty or all-NA columns when determining the result dtypes. To retain the old behavior, exclude the relevant entries before the concat operation.\n",
            "  df_saved_results = pd.concat([df_saved_results, pd.DataFrame(all_results)], ignore_index=True)\n",
            "Classifying ESG:   1%|          | 31/6169 [00:16<50:30,  2.03it/s]"
          ]
        },
        {
          "output_type": "stream",
          "name": "stdout",
          "text": [
            "Saving progress at batch 31...\n"
          ]
        },
        {
          "output_type": "stream",
          "name": "stderr",
          "text": [
            "Classifying ESG:   1%|          | 62/6169 [00:32<51:04,  1.99it/s]"
          ]
        },
        {
          "output_type": "stream",
          "name": "stdout",
          "text": [
            "Saving progress at batch 62...\n"
          ]
        },
        {
          "output_type": "stream",
          "name": "stderr",
          "text": [
            "Classifying ESG:   2%|▏         | 93/6169 [00:48<50:20,  2.01it/s]"
          ]
        },
        {
          "output_type": "stream",
          "name": "stdout",
          "text": [
            "Saving progress at batch 93...\n"
          ]
        },
        {
          "output_type": "stream",
          "name": "stderr",
          "text": [
            "Classifying ESG:   2%|▏         | 124/6169 [01:05<1:03:19,  1.59it/s]"
          ]
        },
        {
          "output_type": "stream",
          "name": "stdout",
          "text": [
            "Saving progress at batch 124...\n"
          ]
        },
        {
          "output_type": "stream",
          "name": "stderr",
          "text": [
            "Classifying ESG:   3%|▎         | 155/6169 [01:21<57:20,  1.75it/s]"
          ]
        },
        {
          "output_type": "stream",
          "name": "stdout",
          "text": [
            "Saving progress at batch 155...\n"
          ]
        },
        {
          "output_type": "stream",
          "name": "stderr",
          "text": [
            "Classifying ESG:   3%|▎         | 186/6169 [01:38<51:16,  1.94it/s]"
          ]
        },
        {
          "output_type": "stream",
          "name": "stdout",
          "text": [
            "Saving progress at batch 186...\n"
          ]
        },
        {
          "output_type": "stream",
          "name": "stderr",
          "text": [
            "Classifying ESG:   4%|▎         | 217/6169 [01:54<50:02,  1.98it/s]"
          ]
        },
        {
          "output_type": "stream",
          "name": "stdout",
          "text": [
            "Saving progress at batch 217...\n"
          ]
        },
        {
          "output_type": "stream",
          "name": "stderr",
          "text": [
            "Classifying ESG:   4%|▍         | 248/6169 [02:10<50:28,  1.96it/s]"
          ]
        },
        {
          "output_type": "stream",
          "name": "stdout",
          "text": [
            "Saving progress at batch 248...\n"
          ]
        },
        {
          "output_type": "stream",
          "name": "stderr",
          "text": [
            "Classifying ESG:   5%|▍         | 279/6169 [02:27<59:40,  1.64it/s]"
          ]
        },
        {
          "output_type": "stream",
          "name": "stdout",
          "text": [
            "Saving progress at batch 279...\n"
          ]
        },
        {
          "output_type": "stream",
          "name": "stderr",
          "text": [
            "Classifying ESG:   5%|▌         | 310/6169 [02:44<1:00:47,  1.61it/s]"
          ]
        },
        {
          "output_type": "stream",
          "name": "stdout",
          "text": [
            "Saving progress at batch 310...\n"
          ]
        },
        {
          "output_type": "stream",
          "name": "stderr",
          "text": [
            "Classifying ESG:   6%|▌         | 341/6169 [03:00<51:31,  1.88it/s]"
          ]
        },
        {
          "output_type": "stream",
          "name": "stdout",
          "text": [
            "Saving progress at batch 341...\n"
          ]
        },
        {
          "output_type": "stream",
          "name": "stderr",
          "text": [
            "Classifying ESG:   6%|▌         | 372/6169 [03:16<50:13,  1.92it/s]"
          ]
        },
        {
          "output_type": "stream",
          "name": "stdout",
          "text": [
            "Saving progress at batch 372...\n"
          ]
        },
        {
          "output_type": "stream",
          "name": "stderr",
          "text": [
            "Classifying ESG:   7%|▋         | 403/6169 [03:33<50:39,  1.90it/s]"
          ]
        },
        {
          "output_type": "stream",
          "name": "stdout",
          "text": [
            "Saving progress at batch 403...\n"
          ]
        },
        {
          "output_type": "stream",
          "name": "stderr",
          "text": [
            "Classifying ESG:   7%|▋         | 433/6169 [03:48<45:58,  2.08it/s]"
          ]
        },
        {
          "output_type": "stream",
          "name": "stdout",
          "text": [
            "Saving progress at batch 434...\n"
          ]
        },
        {
          "output_type": "stream",
          "name": "stderr",
          "text": [
            "Classifying ESG:   8%|▊         | 465/6169 [04:06<1:08:38,  1.39it/s]"
          ]
        },
        {
          "output_type": "stream",
          "name": "stdout",
          "text": [
            "Saving progress at batch 465...\n"
          ]
        },
        {
          "output_type": "stream",
          "name": "stderr",
          "text": [
            "Classifying ESG:   8%|▊         | 496/6169 [04:23<52:24,  1.80it/s]"
          ]
        },
        {
          "output_type": "stream",
          "name": "stdout",
          "text": [
            "Saving progress at batch 496...\n"
          ]
        },
        {
          "output_type": "stream",
          "name": "stderr",
          "text": [
            "Classifying ESG:   9%|▊         | 527/6169 [04:39<50:14,  1.87it/s]"
          ]
        },
        {
          "output_type": "stream",
          "name": "stdout",
          "text": [
            "Saving progress at batch 527...\n"
          ]
        },
        {
          "output_type": "stream",
          "name": "stderr",
          "text": [
            "Classifying ESG:   9%|▉         | 558/6169 [04:55<51:20,  1.82it/s]"
          ]
        },
        {
          "output_type": "stream",
          "name": "stdout",
          "text": [
            "Saving progress at batch 558...\n"
          ]
        },
        {
          "output_type": "stream",
          "name": "stderr",
          "text": [
            "Classifying ESG:  10%|▉         | 588/6169 [05:11<45:20,  2.05it/s]"
          ]
        },
        {
          "output_type": "stream",
          "name": "stdout",
          "text": [
            "Saving progress at batch 589...\n"
          ]
        },
        {
          "output_type": "stream",
          "name": "stderr",
          "text": [
            "Classifying ESG:  10%|█         | 620/6169 [05:29<1:05:55,  1.40it/s]"
          ]
        },
        {
          "output_type": "stream",
          "name": "stdout",
          "text": [
            "Saving progress at batch 620...\n"
          ]
        },
        {
          "output_type": "stream",
          "name": "stderr",
          "text": [
            "Classifying ESG:  11%|█         | 650/6169 [05:45<48:29,  1.90it/s]"
          ]
        },
        {
          "output_type": "stream",
          "name": "stdout",
          "text": [
            "Saving progress at batch 651...\n"
          ]
        },
        {
          "output_type": "stream",
          "name": "stderr",
          "text": [
            "Classifying ESG:  11%|█         | 681/6169 [06:02<45:05,  2.03it/s]"
          ]
        },
        {
          "output_type": "stream",
          "name": "stdout",
          "text": [
            "Saving progress at batch 682...\n"
          ]
        },
        {
          "output_type": "stream",
          "name": "stderr",
          "text": [
            "Classifying ESG:  12%|█▏        | 712/6169 [06:19<44:37,  2.04it/s]"
          ]
        },
        {
          "output_type": "stream",
          "name": "stdout",
          "text": [
            "Saving progress at batch 713...\n"
          ]
        },
        {
          "output_type": "stream",
          "name": "stderr",
          "text": [
            "Classifying ESG:  12%|█▏        | 743/6169 [06:35<51:54,  1.74it/s]"
          ]
        },
        {
          "output_type": "stream",
          "name": "stdout",
          "text": [
            "Saving progress at batch 744...\n"
          ]
        },
        {
          "output_type": "stream",
          "name": "stderr",
          "text": [
            "Classifying ESG:  13%|█▎        | 774/6169 [06:53<54:28,  1.65it/s]"
          ]
        },
        {
          "output_type": "stream",
          "name": "stdout",
          "text": [
            "Saving progress at batch 775...\n"
          ]
        },
        {
          "output_type": "stream",
          "name": "stderr",
          "text": [
            "Classifying ESG:  13%|█▎        | 805/6169 [07:09<45:17,  1.97it/s]"
          ]
        },
        {
          "output_type": "stream",
          "name": "stdout",
          "text": [
            "Saving progress at batch 806...\n"
          ]
        },
        {
          "output_type": "stream",
          "name": "stderr",
          "text": [
            "Classifying ESG:  14%|█▎        | 836/6169 [07:25<42:35,  2.09it/s]"
          ]
        },
        {
          "output_type": "stream",
          "name": "stdout",
          "text": [
            "Saving progress at batch 837...\n"
          ]
        },
        {
          "output_type": "stream",
          "name": "stderr",
          "text": [
            "Classifying ESG:  14%|█▍        | 867/6169 [07:42<42:28,  2.08it/s]"
          ]
        },
        {
          "output_type": "stream",
          "name": "stdout",
          "text": [
            "Saving progress at batch 868...\n"
          ]
        },
        {
          "output_type": "stream",
          "name": "stderr",
          "text": [
            "Classifying ESG:  15%|█▍        | 898/6169 [07:59<50:17,  1.75it/s]"
          ]
        },
        {
          "output_type": "stream",
          "name": "stdout",
          "text": [
            "Saving progress at batch 899...\n"
          ]
        },
        {
          "output_type": "stream",
          "name": "stderr",
          "text": [
            "Classifying ESG:  15%|█▌        | 929/6169 [08:16<49:36,  1.76it/s]"
          ]
        },
        {
          "output_type": "stream",
          "name": "stdout",
          "text": [
            "Saving progress at batch 930...\n"
          ]
        },
        {
          "output_type": "stream",
          "name": "stderr",
          "text": [
            "Classifying ESG:  16%|█▌        | 960/6169 [08:32<43:12,  2.01it/s]"
          ]
        },
        {
          "output_type": "stream",
          "name": "stdout",
          "text": [
            "Saving progress at batch 961...\n"
          ]
        },
        {
          "output_type": "stream",
          "name": "stderr",
          "text": [
            "Classifying ESG:  16%|█▌        | 991/6169 [08:49<41:45,  2.07it/s]"
          ]
        },
        {
          "output_type": "stream",
          "name": "stdout",
          "text": [
            "Saving progress at batch 992...\n"
          ]
        },
        {
          "output_type": "stream",
          "name": "stderr",
          "text": [
            "Classifying ESG:  17%|█▋        | 1022/6169 [09:05<41:44,  2.06it/s]"
          ]
        },
        {
          "output_type": "stream",
          "name": "stdout",
          "text": [
            "Saving progress at batch 1023...\n"
          ]
        },
        {
          "output_type": "stream",
          "name": "stderr",
          "text": [
            "Classifying ESG:  17%|█▋        | 1053/6169 [09:22<49:42,  1.72it/s]"
          ]
        },
        {
          "output_type": "stream",
          "name": "stdout",
          "text": [
            "Saving progress at batch 1054...\n"
          ]
        },
        {
          "output_type": "stream",
          "name": "stderr",
          "text": [
            "Classifying ESG:  18%|█▊        | 1084/6169 [09:39<45:47,  1.85it/s]"
          ]
        },
        {
          "output_type": "stream",
          "name": "stdout",
          "text": [
            "Saving progress at batch 1085...\n"
          ]
        },
        {
          "output_type": "stream",
          "name": "stderr",
          "text": [
            "Classifying ESG:  18%|█▊        | 1115/6169 [09:55<41:37,  2.02it/s]"
          ]
        },
        {
          "output_type": "stream",
          "name": "stdout",
          "text": [
            "Saving progress at batch 1116...\n"
          ]
        },
        {
          "output_type": "stream",
          "name": "stderr",
          "text": [
            "Classifying ESG:  19%|█▊        | 1146/6169 [10:12<40:12,  2.08it/s]"
          ]
        },
        {
          "output_type": "stream",
          "name": "stdout",
          "text": [
            "Saving progress at batch 1147...\n"
          ]
        },
        {
          "output_type": "stream",
          "name": "stderr",
          "text": [
            "Classifying ESG:  19%|█▉        | 1177/6169 [10:28<39:52,  2.09it/s]"
          ]
        },
        {
          "output_type": "stream",
          "name": "stdout",
          "text": [
            "Saving progress at batch 1178...\n"
          ]
        },
        {
          "output_type": "stream",
          "name": "stderr",
          "text": [
            "Classifying ESG:  20%|█▉        | 1208/6169 [10:46<53:20,  1.55it/s]"
          ]
        },
        {
          "output_type": "stream",
          "name": "stdout",
          "text": [
            "Saving progress at batch 1209...\n"
          ]
        },
        {
          "output_type": "stream",
          "name": "stderr",
          "text": [
            "Classifying ESG:  20%|██        | 1239/6169 [11:03<43:08,  1.90it/s]"
          ]
        },
        {
          "output_type": "stream",
          "name": "stdout",
          "text": [
            "Saving progress at batch 1240...\n"
          ]
        },
        {
          "output_type": "stream",
          "name": "stderr",
          "text": [
            "Classifying ESG:  21%|██        | 1270/6169 [11:19<39:33,  2.06it/s]"
          ]
        },
        {
          "output_type": "stream",
          "name": "stdout",
          "text": [
            "Saving progress at batch 1271...\n"
          ]
        },
        {
          "output_type": "stream",
          "name": "stderr",
          "text": [
            "Classifying ESG:  21%|██        | 1301/6169 [11:36<39:20,  2.06it/s]"
          ]
        },
        {
          "output_type": "stream",
          "name": "stdout",
          "text": [
            "Saving progress at batch 1302...\n"
          ]
        },
        {
          "output_type": "stream",
          "name": "stderr",
          "text": [
            "Classifying ESG:  22%|██▏       | 1332/6169 [11:52<38:53,  2.07it/s]"
          ]
        },
        {
          "output_type": "stream",
          "name": "stdout",
          "text": [
            "Saving progress at batch 1333...\n"
          ]
        },
        {
          "output_type": "stream",
          "name": "stderr",
          "text": [
            "Classifying ESG:  22%|██▏       | 1363/6169 [12:10<53:26,  1.50it/s]"
          ]
        },
        {
          "output_type": "stream",
          "name": "stdout",
          "text": [
            "Saving progress at batch 1364...\n"
          ]
        },
        {
          "output_type": "stream",
          "name": "stderr",
          "text": [
            "Classifying ESG:  23%|██▎       | 1394/6169 [12:27<40:51,  1.95it/s]"
          ]
        },
        {
          "output_type": "stream",
          "name": "stdout",
          "text": [
            "Saving progress at batch 1395...\n"
          ]
        },
        {
          "output_type": "stream",
          "name": "stderr",
          "text": [
            "Classifying ESG:  23%|██▎       | 1425/6169 [12:43<38:22,  2.06it/s]"
          ]
        },
        {
          "output_type": "stream",
          "name": "stdout",
          "text": [
            "Saving progress at batch 1426...\n"
          ]
        },
        {
          "output_type": "stream",
          "name": "stderr",
          "text": [
            "Classifying ESG:  24%|██▎       | 1456/6169 [13:00<38:27,  2.04it/s]"
          ]
        },
        {
          "output_type": "stream",
          "name": "stdout",
          "text": [
            "Saving progress at batch 1457...\n"
          ]
        },
        {
          "output_type": "stream",
          "name": "stderr",
          "text": [
            "Classifying ESG:  24%|██▍       | 1487/6169 [13:17<44:32,  1.75it/s]"
          ]
        },
        {
          "output_type": "stream",
          "name": "stdout",
          "text": [
            "Saving progress at batch 1488...\n"
          ]
        },
        {
          "output_type": "stream",
          "name": "stderr",
          "text": [
            "Classifying ESG:  25%|██▍       | 1518/6169 [13:34<42:36,  1.82it/s]"
          ]
        },
        {
          "output_type": "stream",
          "name": "stdout",
          "text": [
            "Saving progress at batch 1519...\n"
          ]
        },
        {
          "output_type": "stream",
          "name": "stderr",
          "text": [
            "Classifying ESG:  25%|██▌       | 1549/6169 [13:51<37:44,  2.04it/s]"
          ]
        },
        {
          "output_type": "stream",
          "name": "stdout",
          "text": [
            "Saving progress at batch 1550...\n"
          ]
        },
        {
          "output_type": "stream",
          "name": "stderr",
          "text": [
            "Classifying ESG:  26%|██▌       | 1580/6169 [14:07<36:55,  2.07it/s]"
          ]
        },
        {
          "output_type": "stream",
          "name": "stdout",
          "text": [
            "Saving progress at batch 1581...\n"
          ]
        },
        {
          "output_type": "stream",
          "name": "stderr",
          "text": [
            "Classifying ESG:  26%|██▌       | 1611/6169 [14:24<38:08,  1.99it/s]"
          ]
        },
        {
          "output_type": "stream",
          "name": "stdout",
          "text": [
            "Saving progress at batch 1612...\n"
          ]
        },
        {
          "output_type": "stream",
          "name": "stderr",
          "text": [
            "Classifying ESG:  27%|██▋       | 1642/6169 [14:42<49:06,  1.54it/s]"
          ]
        },
        {
          "output_type": "stream",
          "name": "stdout",
          "text": [
            "Saving progress at batch 1643...\n"
          ]
        },
        {
          "output_type": "stream",
          "name": "stderr",
          "text": [
            "Classifying ESG:  27%|██▋       | 1673/6169 [14:58<37:50,  1.98it/s]"
          ]
        },
        {
          "output_type": "stream",
          "name": "stdout",
          "text": [
            "Saving progress at batch 1674...\n"
          ]
        },
        {
          "output_type": "stream",
          "name": "stderr",
          "text": [
            "Classifying ESG:  28%|██▊       | 1704/6169 [15:15<36:19,  2.05it/s]"
          ]
        },
        {
          "output_type": "stream",
          "name": "stdout",
          "text": [
            "Saving progress at batch 1705...\n"
          ]
        },
        {
          "output_type": "stream",
          "name": "stderr",
          "text": [
            "Classifying ESG:  28%|██▊       | 1735/6169 [15:31<35:28,  2.08it/s]"
          ]
        },
        {
          "output_type": "stream",
          "name": "stdout",
          "text": [
            "Saving progress at batch 1736...\n"
          ]
        },
        {
          "output_type": "stream",
          "name": "stderr",
          "text": [
            "Classifying ESG:  29%|██▊       | 1766/6169 [15:49<45:01,  1.63it/s]"
          ]
        },
        {
          "output_type": "stream",
          "name": "stdout",
          "text": [
            "Saving progress at batch 1767...\n"
          ]
        },
        {
          "output_type": "stream",
          "name": "stderr",
          "text": [
            "Classifying ESG:  29%|██▉       | 1797/6169 [16:06<39:23,  1.85it/s]"
          ]
        },
        {
          "output_type": "stream",
          "name": "stdout",
          "text": [
            "Saving progress at batch 1798...\n"
          ]
        },
        {
          "output_type": "stream",
          "name": "stderr",
          "text": [
            "Classifying ESG:  30%|██▉       | 1828/6169 [16:23<35:08,  2.06it/s]"
          ]
        },
        {
          "output_type": "stream",
          "name": "stdout",
          "text": [
            "Saving progress at batch 1829...\n"
          ]
        },
        {
          "output_type": "stream",
          "name": "stderr",
          "text": [
            "Classifying ESG:  30%|███       | 1859/6169 [16:39<34:29,  2.08it/s]"
          ]
        },
        {
          "output_type": "stream",
          "name": "stdout",
          "text": [
            "Saving progress at batch 1860...\n"
          ]
        },
        {
          "output_type": "stream",
          "name": "stderr",
          "text": [
            "Classifying ESG:  31%|███       | 1890/6169 [16:56<39:03,  1.83it/s]"
          ]
        },
        {
          "output_type": "stream",
          "name": "stdout",
          "text": [
            "Saving progress at batch 1891...\n"
          ]
        },
        {
          "output_type": "stream",
          "name": "stderr",
          "text": [
            "Classifying ESG:  31%|███       | 1921/6169 [17:14<42:52,  1.65it/s]"
          ]
        },
        {
          "output_type": "stream",
          "name": "stdout",
          "text": [
            "Saving progress at batch 1922...\n"
          ]
        },
        {
          "output_type": "stream",
          "name": "stderr",
          "text": [
            "Classifying ESG:  32%|███▏      | 1952/6169 [17:31<34:43,  2.02it/s]"
          ]
        },
        {
          "output_type": "stream",
          "name": "stdout",
          "text": [
            "Saving progress at batch 1953...\n"
          ]
        },
        {
          "output_type": "stream",
          "name": "stderr",
          "text": [
            "Classifying ESG:  32%|███▏      | 1983/6169 [17:48<33:59,  2.05it/s]"
          ]
        },
        {
          "output_type": "stream",
          "name": "stdout",
          "text": [
            "Saving progress at batch 1984...\n"
          ]
        },
        {
          "output_type": "stream",
          "name": "stderr",
          "text": [
            "Classifying ESG:  33%|███▎      | 2014/6169 [18:05<33:20,  2.08it/s]"
          ]
        },
        {
          "output_type": "stream",
          "name": "stdout",
          "text": [
            "Saving progress at batch 2015...\n"
          ]
        },
        {
          "output_type": "stream",
          "name": "stderr",
          "text": [
            "Classifying ESG:  33%|███▎      | 2045/6169 [18:22<44:35,  1.54it/s]"
          ]
        },
        {
          "output_type": "stream",
          "name": "stdout",
          "text": [
            "Saving progress at batch 2046...\n"
          ]
        },
        {
          "output_type": "stream",
          "name": "stderr",
          "text": [
            "Classifying ESG:  34%|███▎      | 2076/6169 [18:39<35:22,  1.93it/s]"
          ]
        },
        {
          "output_type": "stream",
          "name": "stdout",
          "text": [
            "Saving progress at batch 2077...\n"
          ]
        },
        {
          "output_type": "stream",
          "name": "stderr",
          "text": [
            "Classifying ESG:  34%|███▍      | 2107/6169 [18:56<32:51,  2.06it/s]"
          ]
        },
        {
          "output_type": "stream",
          "name": "stdout",
          "text": [
            "Saving progress at batch 2108...\n"
          ]
        },
        {
          "output_type": "stream",
          "name": "stderr",
          "text": [
            "Classifying ESG:  35%|███▍      | 2138/6169 [19:13<32:21,  2.08it/s]"
          ]
        },
        {
          "output_type": "stream",
          "name": "stdout",
          "text": [
            "Saving progress at batch 2139...\n"
          ]
        },
        {
          "output_type": "stream",
          "name": "stderr",
          "text": [
            "Classifying ESG:  35%|███▌      | 2169/6169 [19:30<38:36,  1.73it/s]"
          ]
        },
        {
          "output_type": "stream",
          "name": "stdout",
          "text": [
            "Saving progress at batch 2170...\n"
          ]
        },
        {
          "output_type": "stream",
          "name": "stderr",
          "text": [
            "Classifying ESG:  36%|███▌      | 2200/6169 [19:48<36:11,  1.83it/s]"
          ]
        },
        {
          "output_type": "stream",
          "name": "stdout",
          "text": [
            "Saving progress at batch 2201...\n"
          ]
        },
        {
          "output_type": "stream",
          "name": "stderr",
          "text": [
            "Classifying ESG:  36%|███▌      | 2231/6169 [20:05<32:00,  2.05it/s]"
          ]
        },
        {
          "output_type": "stream",
          "name": "stdout",
          "text": [
            "Saving progress at batch 2232...\n"
          ]
        },
        {
          "output_type": "stream",
          "name": "stderr",
          "text": [
            "Classifying ESG:  37%|███▋      | 2262/6169 [20:21<31:16,  2.08it/s]"
          ]
        },
        {
          "output_type": "stream",
          "name": "stdout",
          "text": [
            "Saving progress at batch 2263...\n"
          ]
        },
        {
          "output_type": "stream",
          "name": "stderr",
          "text": [
            "Classifying ESG:  37%|███▋      | 2293/6169 [20:38<36:09,  1.79it/s]"
          ]
        },
        {
          "output_type": "stream",
          "name": "stdout",
          "text": [
            "Saving progress at batch 2294...\n"
          ]
        },
        {
          "output_type": "stream",
          "name": "stderr",
          "text": [
            "Classifying ESG:  38%|███▊      | 2324/6169 [20:56<36:23,  1.76it/s]"
          ]
        },
        {
          "output_type": "stream",
          "name": "stdout",
          "text": [
            "Saving progress at batch 2325...\n"
          ]
        },
        {
          "output_type": "stream",
          "name": "stderr",
          "text": [
            "Classifying ESG:  38%|███▊      | 2355/6169 [21:13<31:14,  2.03it/s]"
          ]
        },
        {
          "output_type": "stream",
          "name": "stdout",
          "text": [
            "Saving progress at batch 2356...\n"
          ]
        },
        {
          "output_type": "stream",
          "name": "stderr",
          "text": [
            "Classifying ESG:  39%|███▊      | 2386/6169 [21:30<30:17,  2.08it/s]"
          ]
        },
        {
          "output_type": "stream",
          "name": "stdout",
          "text": [
            "Saving progress at batch 2387...\n"
          ]
        },
        {
          "output_type": "stream",
          "name": "stderr",
          "text": [
            "Classifying ESG:  39%|███▉      | 2417/6169 [21:47<34:13,  1.83it/s]"
          ]
        },
        {
          "output_type": "stream",
          "name": "stdout",
          "text": [
            "Saving progress at batch 2418...\n"
          ]
        },
        {
          "output_type": "stream",
          "name": "stderr",
          "text": [
            "Classifying ESG:  40%|███▉      | 2448/6169 [22:05<37:19,  1.66it/s]"
          ]
        },
        {
          "output_type": "stream",
          "name": "stdout",
          "text": [
            "Saving progress at batch 2449...\n"
          ]
        },
        {
          "output_type": "stream",
          "name": "stderr",
          "text": [
            "Classifying ESG:  40%|████      | 2479/6169 [22:22<30:19,  2.03it/s]"
          ]
        },
        {
          "output_type": "stream",
          "name": "stdout",
          "text": [
            "Saving progress at batch 2480...\n"
          ]
        },
        {
          "output_type": "stream",
          "name": "stderr",
          "text": [
            "Classifying ESG:  41%|████      | 2510/6169 [22:39<30:17,  2.01it/s]"
          ]
        },
        {
          "output_type": "stream",
          "name": "stdout",
          "text": [
            "Saving progress at batch 2511...\n"
          ]
        },
        {
          "output_type": "stream",
          "name": "stderr",
          "text": [
            "Classifying ESG:  41%|████      | 2541/6169 [22:57<35:21,  1.71it/s]"
          ]
        },
        {
          "output_type": "stream",
          "name": "stdout",
          "text": [
            "Saving progress at batch 2542...\n"
          ]
        },
        {
          "output_type": "stream",
          "name": "stderr",
          "text": [
            "Classifying ESG:  42%|████▏     | 2572/6169 [23:15<33:11,  1.81it/s]"
          ]
        },
        {
          "output_type": "stream",
          "name": "stdout",
          "text": [
            "Saving progress at batch 2573...\n"
          ]
        },
        {
          "output_type": "stream",
          "name": "stderr",
          "text": [
            "Classifying ESG:  42%|████▏     | 2603/6169 [23:32<28:38,  2.07it/s]"
          ]
        },
        {
          "output_type": "stream",
          "name": "stdout",
          "text": [
            "Saving progress at batch 2604...\n"
          ]
        },
        {
          "output_type": "stream",
          "name": "stderr",
          "text": [
            "Classifying ESG:  43%|████▎     | 2634/6169 [23:48<28:15,  2.09it/s]"
          ]
        },
        {
          "output_type": "stream",
          "name": "stdout",
          "text": [
            "Saving progress at batch 2635...\n"
          ]
        },
        {
          "output_type": "stream",
          "name": "stderr",
          "text": [
            "Classifying ESG:  43%|████▎     | 2665/6169 [24:06<32:30,  1.80it/s]"
          ]
        },
        {
          "output_type": "stream",
          "name": "stdout",
          "text": [
            "Saving progress at batch 2666...\n"
          ]
        },
        {
          "output_type": "stream",
          "name": "stderr",
          "text": [
            "Classifying ESG:  44%|████▎     | 2696/6169 [24:24<31:09,  1.86it/s]"
          ]
        },
        {
          "output_type": "stream",
          "name": "stdout",
          "text": [
            "Saving progress at batch 2697...\n"
          ]
        },
        {
          "output_type": "stream",
          "name": "stderr",
          "text": [
            "Classifying ESG:  44%|████▍     | 2727/6169 [24:40<28:04,  2.04it/s]"
          ]
        },
        {
          "output_type": "stream",
          "name": "stdout",
          "text": [
            "Saving progress at batch 2728...\n"
          ]
        },
        {
          "output_type": "stream",
          "name": "stderr",
          "text": [
            "Classifying ESG:  45%|████▍     | 2758/6169 [24:57<27:21,  2.08it/s]"
          ]
        },
        {
          "output_type": "stream",
          "name": "stdout",
          "text": [
            "Saving progress at batch 2759...\n"
          ]
        },
        {
          "output_type": "stream",
          "name": "stderr",
          "text": [
            "Classifying ESG:  45%|████▌     | 2789/6169 [25:15<33:17,  1.69it/s]"
          ]
        },
        {
          "output_type": "stream",
          "name": "stdout",
          "text": [
            "Saving progress at batch 2790...\n"
          ]
        },
        {
          "output_type": "stream",
          "name": "stderr",
          "text": [
            "Classifying ESG:  46%|████▌     | 2820/6169 [25:33<30:07,  1.85it/s]"
          ]
        },
        {
          "output_type": "stream",
          "name": "stdout",
          "text": [
            "Saving progress at batch 2821...\n"
          ]
        },
        {
          "output_type": "stream",
          "name": "stderr",
          "text": [
            "Classifying ESG:  46%|████▌     | 2851/6169 [25:49<26:24,  2.09it/s]"
          ]
        },
        {
          "output_type": "stream",
          "name": "stdout",
          "text": [
            "Saving progress at batch 2852...\n"
          ]
        },
        {
          "output_type": "stream",
          "name": "stderr",
          "text": [
            "Classifying ESG:  47%|████▋     | 2882/6169 [26:06<26:11,  2.09it/s]"
          ]
        },
        {
          "output_type": "stream",
          "name": "stdout",
          "text": [
            "Saving progress at batch 2883...\n"
          ]
        },
        {
          "output_type": "stream",
          "name": "stderr",
          "text": [
            "Classifying ESG:  47%|████▋     | 2913/6169 [26:24<31:31,  1.72it/s]"
          ]
        },
        {
          "output_type": "stream",
          "name": "stdout",
          "text": [
            "Saving progress at batch 2914...\n"
          ]
        },
        {
          "output_type": "stream",
          "name": "stderr",
          "text": [
            "Classifying ESG:  48%|████▊     | 2944/6169 [26:42<28:19,  1.90it/s]"
          ]
        },
        {
          "output_type": "stream",
          "name": "stdout",
          "text": [
            "Saving progress at batch 2945...\n"
          ]
        },
        {
          "output_type": "stream",
          "name": "stderr",
          "text": [
            "Classifying ESG:  48%|████▊     | 2975/6169 [26:59<25:50,  2.06it/s]"
          ]
        },
        {
          "output_type": "stream",
          "name": "stdout",
          "text": [
            "Saving progress at batch 2976...\n"
          ]
        },
        {
          "output_type": "stream",
          "name": "stderr",
          "text": [
            "Classifying ESG:  49%|████▊     | 3006/6169 [27:16<25:28,  2.07it/s]"
          ]
        },
        {
          "output_type": "stream",
          "name": "stdout",
          "text": [
            "Saving progress at batch 3007...\n"
          ]
        },
        {
          "output_type": "stream",
          "name": "stderr",
          "text": [
            "Classifying ESG:  49%|████▉     | 3037/6169 [27:33<31:35,  1.65it/s]"
          ]
        },
        {
          "output_type": "stream",
          "name": "stdout",
          "text": [
            "Saving progress at batch 3038...\n"
          ]
        },
        {
          "output_type": "stream",
          "name": "stderr",
          "text": [
            "Classifying ESG:  50%|████▉     | 3068/6169 [27:51<26:36,  1.94it/s]"
          ]
        },
        {
          "output_type": "stream",
          "name": "stdout",
          "text": [
            "Saving progress at batch 3069...\n"
          ]
        },
        {
          "output_type": "stream",
          "name": "stderr",
          "text": [
            "Classifying ESG:  50%|█████     | 3099/6169 [28:08<24:43,  2.07it/s]"
          ]
        },
        {
          "output_type": "stream",
          "name": "stdout",
          "text": [
            "Saving progress at batch 3100...\n"
          ]
        },
        {
          "output_type": "stream",
          "name": "stderr",
          "text": [
            "Classifying ESG:  51%|█████     | 3130/6169 [28:25<24:23,  2.08it/s]"
          ]
        },
        {
          "output_type": "stream",
          "name": "stdout",
          "text": [
            "Saving progress at batch 3131...\n"
          ]
        },
        {
          "output_type": "stream",
          "name": "stderr",
          "text": [
            "Classifying ESG:  51%|█████     | 3161/6169 [28:44<34:22,  1.46it/s]"
          ]
        },
        {
          "output_type": "stream",
          "name": "stdout",
          "text": [
            "Saving progress at batch 3162...\n"
          ]
        },
        {
          "output_type": "stream",
          "name": "stderr",
          "text": [
            "Classifying ESG:  52%|█████▏    | 3192/6169 [29:01<24:34,  2.02it/s]"
          ]
        },
        {
          "output_type": "stream",
          "name": "stdout",
          "text": [
            "Saving progress at batch 3193...\n"
          ]
        },
        {
          "output_type": "stream",
          "name": "stderr",
          "text": [
            "Classifying ESG:  52%|█████▏    | 3223/6169 [29:18<23:37,  2.08it/s]"
          ]
        },
        {
          "output_type": "stream",
          "name": "stdout",
          "text": [
            "Saving progress at batch 3224...\n"
          ]
        },
        {
          "output_type": "stream",
          "name": "stderr",
          "text": [
            "Classifying ESG:  53%|█████▎    | 3254/6169 [29:35<25:41,  1.89it/s]"
          ]
        },
        {
          "output_type": "stream",
          "name": "stdout",
          "text": [
            "Saving progress at batch 3255...\n"
          ]
        },
        {
          "output_type": "stream",
          "name": "stderr",
          "text": [
            "Classifying ESG:  53%|█████▎    | 3285/6169 [29:53<28:31,  1.68it/s]"
          ]
        },
        {
          "output_type": "stream",
          "name": "stdout",
          "text": [
            "Saving progress at batch 3286...\n"
          ]
        },
        {
          "output_type": "stream",
          "name": "stderr",
          "text": [
            "Classifying ESG:  54%|█████▍    | 3316/6169 [30:10<23:25,  2.03it/s]"
          ]
        },
        {
          "output_type": "stream",
          "name": "stdout",
          "text": [
            "Saving progress at batch 3317...\n"
          ]
        },
        {
          "output_type": "stream",
          "name": "stderr",
          "text": [
            "Classifying ESG:  54%|█████▍    | 3347/6169 [30:28<22:45,  2.07it/s]"
          ]
        },
        {
          "output_type": "stream",
          "name": "stdout",
          "text": [
            "Saving progress at batch 3348...\n"
          ]
        },
        {
          "output_type": "stream",
          "name": "stderr",
          "text": [
            "Classifying ESG:  55%|█████▍    | 3378/6169 [30:45<25:53,  1.80it/s]"
          ]
        },
        {
          "output_type": "stream",
          "name": "stdout",
          "text": [
            "Saving progress at batch 3379...\n"
          ]
        },
        {
          "output_type": "stream",
          "name": "stderr",
          "text": [
            "Classifying ESG:  55%|█████▌    | 3409/6169 [31:03<25:11,  1.83it/s]"
          ]
        },
        {
          "output_type": "stream",
          "name": "stdout",
          "text": [
            "Saving progress at batch 3410...\n"
          ]
        },
        {
          "output_type": "stream",
          "name": "stderr",
          "text": [
            "Classifying ESG:  56%|█████▌    | 3440/6169 [31:20<21:58,  2.07it/s]"
          ]
        },
        {
          "output_type": "stream",
          "name": "stdout",
          "text": [
            "Saving progress at batch 3441...\n"
          ]
        },
        {
          "output_type": "stream",
          "name": "stderr",
          "text": [
            "Classifying ESG:  56%|█████▋    | 3471/6169 [31:37<21:17,  2.11it/s]"
          ]
        },
        {
          "output_type": "stream",
          "name": "stdout",
          "text": [
            "Saving progress at batch 3472...\n"
          ]
        },
        {
          "output_type": "stream",
          "name": "stderr",
          "text": [
            "Classifying ESG:  57%|█████▋    | 3502/6169 [31:55<27:59,  1.59it/s]"
          ]
        },
        {
          "output_type": "stream",
          "name": "stdout",
          "text": [
            "Saving progress at batch 3503...\n"
          ]
        },
        {
          "output_type": "stream",
          "name": "stderr",
          "text": [
            "Classifying ESG:  57%|█████▋    | 3533/6169 [32:13<22:43,  1.93it/s]"
          ]
        },
        {
          "output_type": "stream",
          "name": "stdout",
          "text": [
            "Saving progress at batch 3534...\n"
          ]
        },
        {
          "output_type": "stream",
          "name": "stderr",
          "text": [
            "Classifying ESG:  58%|█████▊    | 3564/6169 [32:30<20:53,  2.08it/s]"
          ]
        },
        {
          "output_type": "stream",
          "name": "stdout",
          "text": [
            "Saving progress at batch 3565...\n"
          ]
        },
        {
          "output_type": "stream",
          "name": "stderr",
          "text": [
            "Classifying ESG:  58%|█████▊    | 3595/6169 [32:47<20:33,  2.09it/s]"
          ]
        },
        {
          "output_type": "stream",
          "name": "stdout",
          "text": [
            "Saving progress at batch 3596...\n"
          ]
        },
        {
          "output_type": "stream",
          "name": "stderr",
          "text": [
            "Classifying ESG:  59%|█████▉    | 3626/6169 [33:06<27:57,  1.52it/s]"
          ]
        },
        {
          "output_type": "stream",
          "name": "stdout",
          "text": [
            "Saving progress at batch 3627...\n"
          ]
        },
        {
          "output_type": "stream",
          "name": "stderr",
          "text": [
            "Classifying ESG:  59%|█████▉    | 3657/6169 [33:23<20:54,  2.00it/s]"
          ]
        },
        {
          "output_type": "stream",
          "name": "stdout",
          "text": [
            "Saving progress at batch 3658...\n"
          ]
        },
        {
          "output_type": "stream",
          "name": "stderr",
          "text": [
            "Classifying ESG:  60%|█████▉    | 3688/6169 [33:41<20:17,  2.04it/s]"
          ]
        },
        {
          "output_type": "stream",
          "name": "stdout",
          "text": [
            "Saving progress at batch 3689...\n"
          ]
        },
        {
          "output_type": "stream",
          "name": "stderr",
          "text": [
            "Classifying ESG:  60%|██████    | 3719/6169 [33:58<20:43,  1.97it/s]"
          ]
        },
        {
          "output_type": "stream",
          "name": "stdout",
          "text": [
            "Saving progress at batch 3720...\n"
          ]
        },
        {
          "output_type": "stream",
          "name": "stderr",
          "text": [
            "Classifying ESG:  61%|██████    | 3750/6169 [34:17<22:48,  1.77it/s]"
          ]
        },
        {
          "output_type": "stream",
          "name": "stdout",
          "text": [
            "Saving progress at batch 3751...\n"
          ]
        },
        {
          "output_type": "stream",
          "name": "stderr",
          "text": [
            "Classifying ESG:  61%|██████▏   | 3781/6169 [34:34<19:18,  2.06it/s]"
          ]
        },
        {
          "output_type": "stream",
          "name": "stdout",
          "text": [
            "Saving progress at batch 3782...\n"
          ]
        },
        {
          "output_type": "stream",
          "name": "stderr",
          "text": [
            "Classifying ESG:  62%|██████▏   | 3812/6169 [34:51<18:50,  2.08it/s]"
          ]
        },
        {
          "output_type": "stream",
          "name": "stdout",
          "text": [
            "Saving progress at batch 3813...\n"
          ]
        },
        {
          "output_type": "stream",
          "name": "stderr",
          "text": [
            "Classifying ESG:  62%|██████▏   | 3843/6169 [35:09<21:53,  1.77it/s]"
          ]
        },
        {
          "output_type": "stream",
          "name": "stdout",
          "text": [
            "Saving progress at batch 3844...\n"
          ]
        },
        {
          "output_type": "stream",
          "name": "stderr",
          "text": [
            "Classifying ESG:  63%|██████▎   | 3874/6169 [35:27<20:35,  1.86it/s]"
          ]
        },
        {
          "output_type": "stream",
          "name": "stdout",
          "text": [
            "Saving progress at batch 3875...\n"
          ]
        },
        {
          "output_type": "stream",
          "name": "stderr",
          "text": [
            "Classifying ESG:  63%|██████▎   | 3905/6169 [35:44<18:25,  2.05it/s]"
          ]
        },
        {
          "output_type": "stream",
          "name": "stdout",
          "text": [
            "Saving progress at batch 3906...\n"
          ]
        },
        {
          "output_type": "stream",
          "name": "stderr",
          "text": [
            "Classifying ESG:  64%|██████▍   | 3936/6169 [36:02<17:50,  2.09it/s]"
          ]
        },
        {
          "output_type": "stream",
          "name": "stdout",
          "text": [
            "Saving progress at batch 3937...\n"
          ]
        },
        {
          "output_type": "stream",
          "name": "stderr",
          "text": [
            "Classifying ESG:  64%|██████▍   | 3967/6169 [36:20<22:28,  1.63it/s]"
          ]
        },
        {
          "output_type": "stream",
          "name": "stdout",
          "text": [
            "Saving progress at batch 3968...\n"
          ]
        },
        {
          "output_type": "stream",
          "name": "stderr",
          "text": [
            "Classifying ESG:  65%|██████▍   | 3998/6169 [36:38<18:14,  1.98it/s]"
          ]
        },
        {
          "output_type": "stream",
          "name": "stdout",
          "text": [
            "Saving progress at batch 3999...\n"
          ]
        },
        {
          "output_type": "stream",
          "name": "stderr",
          "text": [
            "Classifying ESG:  65%|██████▌   | 4029/6169 [36:55<17:11,  2.07it/s]"
          ]
        },
        {
          "output_type": "stream",
          "name": "stdout",
          "text": [
            "Saving progress at batch 4030...\n"
          ]
        },
        {
          "output_type": "stream",
          "name": "stderr",
          "text": [
            "Classifying ESG:  66%|██████▌   | 4060/6169 [37:12<17:00,  2.07it/s]"
          ]
        },
        {
          "output_type": "stream",
          "name": "stdout",
          "text": [
            "Saving progress at batch 4061...\n"
          ]
        },
        {
          "output_type": "stream",
          "name": "stderr",
          "text": [
            "Classifying ESG:  66%|██████▋   | 4091/6169 [37:31<20:46,  1.67it/s]"
          ]
        },
        {
          "output_type": "stream",
          "name": "stdout",
          "text": [
            "Saving progress at batch 4092...\n"
          ]
        },
        {
          "output_type": "stream",
          "name": "stderr",
          "text": [
            "Classifying ESG:  67%|██████▋   | 4122/6169 [37:48<16:42,  2.04it/s]"
          ]
        },
        {
          "output_type": "stream",
          "name": "stdout",
          "text": [
            "Saving progress at batch 4123...\n"
          ]
        },
        {
          "output_type": "stream",
          "name": "stderr",
          "text": [
            "Classifying ESG:  67%|██████▋   | 4153/6169 [38:06<16:12,  2.07it/s]"
          ]
        },
        {
          "output_type": "stream",
          "name": "stdout",
          "text": [
            "Saving progress at batch 4154...\n"
          ]
        },
        {
          "output_type": "stream",
          "name": "stderr",
          "text": [
            "Classifying ESG:  68%|██████▊   | 4184/6169 [38:24<19:06,  1.73it/s]"
          ]
        },
        {
          "output_type": "stream",
          "name": "stdout",
          "text": [
            "Saving progress at batch 4185...\n"
          ]
        },
        {
          "output_type": "stream",
          "name": "stderr",
          "text": [
            "Classifying ESG:  68%|██████▊   | 4215/6169 [38:42<17:18,  1.88it/s]"
          ]
        },
        {
          "output_type": "stream",
          "name": "stdout",
          "text": [
            "Saving progress at batch 4216...\n"
          ]
        },
        {
          "output_type": "stream",
          "name": "stderr",
          "text": [
            "Classifying ESG:  69%|██████▉   | 4246/6169 [38:59<15:39,  2.05it/s]"
          ]
        },
        {
          "output_type": "stream",
          "name": "stdout",
          "text": [
            "Saving progress at batch 4247...\n"
          ]
        },
        {
          "output_type": "stream",
          "name": "stderr",
          "text": [
            "Classifying ESG:  69%|██████▉   | 4277/6169 [39:17<15:11,  2.07it/s]"
          ]
        },
        {
          "output_type": "stream",
          "name": "stdout",
          "text": [
            "Saving progress at batch 4278...\n"
          ]
        },
        {
          "output_type": "stream",
          "name": "stderr",
          "text": [
            "Classifying ESG:  70%|██████▉   | 4308/6169 [39:36<18:03,  1.72it/s]"
          ]
        },
        {
          "output_type": "stream",
          "name": "stdout",
          "text": [
            "Saving progress at batch 4309...\n"
          ]
        },
        {
          "output_type": "stream",
          "name": "stderr",
          "text": [
            "Classifying ESG:  70%|███████   | 4339/6169 [39:53<14:53,  2.05it/s]"
          ]
        },
        {
          "output_type": "stream",
          "name": "stdout",
          "text": [
            "Saving progress at batch 4340...\n"
          ]
        },
        {
          "output_type": "stream",
          "name": "stderr",
          "text": [
            "Classifying ESG:  71%|███████   | 4370/6169 [40:11<14:24,  2.08it/s]"
          ]
        },
        {
          "output_type": "stream",
          "name": "stdout",
          "text": [
            "Saving progress at batch 4371...\n"
          ]
        },
        {
          "output_type": "stream",
          "name": "stderr",
          "text": [
            "Classifying ESG:  71%|███████▏  | 4401/6169 [40:29<18:06,  1.63it/s]"
          ]
        },
        {
          "output_type": "stream",
          "name": "stdout",
          "text": [
            "Saving progress at batch 4402...\n"
          ]
        },
        {
          "output_type": "stream",
          "name": "stderr",
          "text": [
            "Classifying ESG:  72%|███████▏  | 4432/6169 [40:47<14:46,  1.96it/s]"
          ]
        },
        {
          "output_type": "stream",
          "name": "stdout",
          "text": [
            "Saving progress at batch 4433...\n"
          ]
        },
        {
          "output_type": "stream",
          "name": "stderr",
          "text": [
            "Classifying ESG:  72%|███████▏  | 4463/6169 [41:04<13:37,  2.09it/s]"
          ]
        },
        {
          "output_type": "stream",
          "name": "stdout",
          "text": [
            "Saving progress at batch 4464...\n"
          ]
        },
        {
          "output_type": "stream",
          "name": "stderr",
          "text": [
            "Classifying ESG:  73%|███████▎  | 4494/6169 [41:22<13:21,  2.09it/s]"
          ]
        },
        {
          "output_type": "stream",
          "name": "stdout",
          "text": [
            "Saving progress at batch 4495...\n"
          ]
        },
        {
          "output_type": "stream",
          "name": "stderr",
          "text": [
            "Classifying ESG:  73%|███████▎  | 4525/6169 [41:41<15:55,  1.72it/s]"
          ]
        },
        {
          "output_type": "stream",
          "name": "stdout",
          "text": [
            "Saving progress at batch 4526...\n"
          ]
        },
        {
          "output_type": "stream",
          "name": "stderr",
          "text": [
            "Classifying ESG:  74%|███████▍  | 4556/6169 [41:59<13:03,  2.06it/s]"
          ]
        },
        {
          "output_type": "stream",
          "name": "stdout",
          "text": [
            "Saving progress at batch 4557...\n"
          ]
        },
        {
          "output_type": "stream",
          "name": "stderr",
          "text": [
            "Classifying ESG:  74%|███████▍  | 4587/6169 [42:16<12:36,  2.09it/s]"
          ]
        },
        {
          "output_type": "stream",
          "name": "stdout",
          "text": [
            "Saving progress at batch 4588...\n"
          ]
        },
        {
          "output_type": "stream",
          "name": "stderr",
          "text": [
            "Classifying ESG:  75%|███████▍  | 4618/6169 [42:34<16:23,  1.58it/s]"
          ]
        },
        {
          "output_type": "stream",
          "name": "stdout",
          "text": [
            "Saving progress at batch 4619...\n"
          ]
        },
        {
          "output_type": "stream",
          "name": "stderr",
          "text": [
            "Classifying ESG:  75%|███████▌  | 4649/6169 [42:53<12:50,  1.97it/s]"
          ]
        },
        {
          "output_type": "stream",
          "name": "stdout",
          "text": [
            "Saving progress at batch 4650...\n"
          ]
        },
        {
          "output_type": "stream",
          "name": "stderr",
          "text": [
            "Classifying ESG:  76%|███████▌  | 4680/6169 [43:10<11:52,  2.09it/s]"
          ]
        },
        {
          "output_type": "stream",
          "name": "stdout",
          "text": [
            "Saving progress at batch 4681...\n"
          ]
        },
        {
          "output_type": "stream",
          "name": "stderr",
          "text": [
            "Classifying ESG:  76%|███████▋  | 4711/6169 [43:28<12:48,  1.90it/s]"
          ]
        },
        {
          "output_type": "stream",
          "name": "stdout",
          "text": [
            "Saving progress at batch 4712...\n"
          ]
        },
        {
          "output_type": "stream",
          "name": "stderr",
          "text": [
            "Classifying ESG:  77%|███████▋  | 4742/6169 [43:47<12:37,  1.88it/s]"
          ]
        },
        {
          "output_type": "stream",
          "name": "stdout",
          "text": [
            "Saving progress at batch 4743...\n"
          ]
        },
        {
          "output_type": "stream",
          "name": "stderr",
          "text": [
            "Classifying ESG:  77%|███████▋  | 4773/6169 [44:04<11:21,  2.05it/s]"
          ]
        },
        {
          "output_type": "stream",
          "name": "stdout",
          "text": [
            "Saving progress at batch 4774...\n"
          ]
        },
        {
          "output_type": "stream",
          "name": "stderr",
          "text": [
            "Classifying ESG:  78%|███████▊  | 4804/6169 [44:22<10:58,  2.07it/s]"
          ]
        },
        {
          "output_type": "stream",
          "name": "stdout",
          "text": [
            "Saving progress at batch 4805...\n"
          ]
        },
        {
          "output_type": "stream",
          "name": "stderr",
          "text": [
            "Classifying ESG:  78%|███████▊  | 4835/6169 [44:41<13:19,  1.67it/s]"
          ]
        },
        {
          "output_type": "stream",
          "name": "stdout",
          "text": [
            "Saving progress at batch 4836...\n"
          ]
        },
        {
          "output_type": "stream",
          "name": "stderr",
          "text": [
            "Classifying ESG:  79%|███████▉  | 4866/6169 [44:59<10:32,  2.06it/s]"
          ]
        },
        {
          "output_type": "stream",
          "name": "stdout",
          "text": [
            "Saving progress at batch 4867...\n"
          ]
        },
        {
          "output_type": "stream",
          "name": "stderr",
          "text": [
            "Classifying ESG:  79%|███████▉  | 4897/6169 [45:16<10:13,  2.07it/s]"
          ]
        },
        {
          "output_type": "stream",
          "name": "stdout",
          "text": [
            "Saving progress at batch 4898...\n"
          ]
        },
        {
          "output_type": "stream",
          "name": "stderr",
          "text": [
            "Classifying ESG:  80%|███████▉  | 4928/6169 [45:35<13:26,  1.54it/s]"
          ]
        },
        {
          "output_type": "stream",
          "name": "stdout",
          "text": [
            "Saving progress at batch 4929...\n"
          ]
        },
        {
          "output_type": "stream",
          "name": "stderr",
          "text": [
            "Classifying ESG:  80%|████████  | 4959/6169 [45:53<10:00,  2.01it/s]"
          ]
        },
        {
          "output_type": "stream",
          "name": "stdout",
          "text": [
            "Saving progress at batch 4960...\n"
          ]
        },
        {
          "output_type": "stream",
          "name": "stderr",
          "text": [
            "Classifying ESG:  81%|████████  | 4990/6169 [46:11<09:28,  2.08it/s]"
          ]
        },
        {
          "output_type": "stream",
          "name": "stdout",
          "text": [
            "Saving progress at batch 4991...\n"
          ]
        },
        {
          "output_type": "stream",
          "name": "stderr",
          "text": [
            "Classifying ESG:  81%|████████▏ | 5021/6169 [46:29<10:26,  1.83it/s]"
          ]
        },
        {
          "output_type": "stream",
          "name": "stdout",
          "text": [
            "Saving progress at batch 5022...\n"
          ]
        },
        {
          "output_type": "stream",
          "name": "stderr",
          "text": [
            "Classifying ESG:  82%|████████▏ | 5052/6169 [46:48<09:57,  1.87it/s]"
          ]
        },
        {
          "output_type": "stream",
          "name": "stdout",
          "text": [
            "Saving progress at batch 5053...\n"
          ]
        },
        {
          "output_type": "stream",
          "name": "stderr",
          "text": [
            "Classifying ESG:  82%|████████▏ | 5083/6169 [47:05<08:45,  2.06it/s]"
          ]
        },
        {
          "output_type": "stream",
          "name": "stdout",
          "text": [
            "Saving progress at batch 5084...\n"
          ]
        },
        {
          "output_type": "stream",
          "name": "stderr",
          "text": [
            "Classifying ESG:  83%|████████▎ | 5114/6169 [47:23<08:27,  2.08it/s]"
          ]
        },
        {
          "output_type": "stream",
          "name": "stdout",
          "text": [
            "Saving progress at batch 5115...\n"
          ]
        },
        {
          "output_type": "stream",
          "name": "stderr",
          "text": [
            "Classifying ESG:  83%|████████▎ | 5145/6169 [47:42<09:36,  1.78it/s]"
          ]
        },
        {
          "output_type": "stream",
          "name": "stdout",
          "text": [
            "Saving progress at batch 5146...\n"
          ]
        },
        {
          "output_type": "stream",
          "name": "stderr",
          "text": [
            "Classifying ESG:  84%|████████▍ | 5176/6169 [48:00<07:54,  2.09it/s]"
          ]
        },
        {
          "output_type": "stream",
          "name": "stdout",
          "text": [
            "Saving progress at batch 5177...\n"
          ]
        },
        {
          "output_type": "stream",
          "name": "stderr",
          "text": [
            "Classifying ESG:  84%|████████▍ | 5207/6169 [48:18<07:45,  2.06it/s]"
          ]
        },
        {
          "output_type": "stream",
          "name": "stdout",
          "text": [
            "Saving progress at batch 5208...\n"
          ]
        },
        {
          "output_type": "stream",
          "name": "stderr",
          "text": [
            "Classifying ESG:  85%|████████▍ | 5238/6169 [48:37<09:51,  1.57it/s]"
          ]
        },
        {
          "output_type": "stream",
          "name": "stdout",
          "text": [
            "Saving progress at batch 5239...\n"
          ]
        },
        {
          "output_type": "stream",
          "name": "stderr",
          "text": [
            "Classifying ESG:  85%|████████▌ | 5269/6169 [48:54<07:23,  2.03it/s]"
          ]
        },
        {
          "output_type": "stream",
          "name": "stdout",
          "text": [
            "Saving progress at batch 5270...\n"
          ]
        },
        {
          "output_type": "stream",
          "name": "stderr",
          "text": [
            "Classifying ESG:  86%|████████▌ | 5300/6169 [49:12<07:04,  2.05it/s]"
          ]
        },
        {
          "output_type": "stream",
          "name": "stdout",
          "text": [
            "Saving progress at batch 5301...\n"
          ]
        },
        {
          "output_type": "stream",
          "name": "stderr",
          "text": [
            "Classifying ESG:  86%|████████▋ | 5331/6169 [49:31<09:21,  1.49it/s]"
          ]
        },
        {
          "output_type": "stream",
          "name": "stdout",
          "text": [
            "Saving progress at batch 5332...\n"
          ]
        },
        {
          "output_type": "stream",
          "name": "stderr",
          "text": [
            "Classifying ESG:  87%|████████▋ | 5362/6169 [49:49<06:34,  2.05it/s]"
          ]
        },
        {
          "output_type": "stream",
          "name": "stdout",
          "text": [
            "Saving progress at batch 5363...\n"
          ]
        },
        {
          "output_type": "stream",
          "name": "stderr",
          "text": [
            "Classifying ESG:  87%|████████▋ | 5393/6169 [50:07<06:10,  2.09it/s]"
          ]
        },
        {
          "output_type": "stream",
          "name": "stdout",
          "text": [
            "Saving progress at batch 5394...\n"
          ]
        },
        {
          "output_type": "stream",
          "name": "stderr",
          "text": [
            "Classifying ESG:  88%|████████▊ | 5424/6169 [50:25<07:16,  1.71it/s]"
          ]
        },
        {
          "output_type": "stream",
          "name": "stdout",
          "text": [
            "Saving progress at batch 5425...\n"
          ]
        },
        {
          "output_type": "stream",
          "name": "stderr",
          "text": [
            "Classifying ESG:  88%|████████▊ | 5455/6169 [50:44<06:03,  1.96it/s]"
          ]
        },
        {
          "output_type": "stream",
          "name": "stdout",
          "text": [
            "Saving progress at batch 5456...\n"
          ]
        },
        {
          "output_type": "stream",
          "name": "stderr",
          "text": [
            "Classifying ESG:  89%|████████▉ | 5486/6169 [51:02<05:29,  2.07it/s]"
          ]
        },
        {
          "output_type": "stream",
          "name": "stdout",
          "text": [
            "Saving progress at batch 5487...\n"
          ]
        },
        {
          "output_type": "stream",
          "name": "stderr",
          "text": [
            "Classifying ESG:  89%|████████▉ | 5517/6169 [51:20<06:17,  1.73it/s]"
          ]
        },
        {
          "output_type": "stream",
          "name": "stdout",
          "text": [
            "Saving progress at batch 5518...\n"
          ]
        },
        {
          "output_type": "stream",
          "name": "stderr",
          "text": [
            "Classifying ESG:  90%|████████▉ | 5548/6169 [51:39<05:18,  1.95it/s]"
          ]
        },
        {
          "output_type": "stream",
          "name": "stdout",
          "text": [
            "Saving progress at batch 5549...\n"
          ]
        },
        {
          "output_type": "stream",
          "name": "stderr",
          "text": [
            "Classifying ESG:  90%|█████████ | 5579/6169 [51:57<04:43,  2.08it/s]"
          ]
        },
        {
          "output_type": "stream",
          "name": "stdout",
          "text": [
            "Saving progress at batch 5580...\n"
          ]
        },
        {
          "output_type": "stream",
          "name": "stderr",
          "text": [
            "Classifying ESG:  91%|█████████ | 5610/6169 [52:15<05:09,  1.80it/s]"
          ]
        },
        {
          "output_type": "stream",
          "name": "stdout",
          "text": [
            "Saving progress at batch 5611...\n"
          ]
        },
        {
          "output_type": "stream",
          "name": "stderr",
          "text": [
            "Classifying ESG:  91%|█████████▏| 5641/6169 [52:34<04:32,  1.93it/s]"
          ]
        },
        {
          "output_type": "stream",
          "name": "stdout",
          "text": [
            "Saving progress at batch 5642...\n"
          ]
        },
        {
          "output_type": "stream",
          "name": "stderr",
          "text": [
            "Classifying ESG:  92%|█████████▏| 5672/6169 [52:51<03:55,  2.11it/s]"
          ]
        },
        {
          "output_type": "stream",
          "name": "stdout",
          "text": [
            "Saving progress at batch 5673...\n"
          ]
        },
        {
          "output_type": "stream",
          "name": "stderr",
          "text": [
            "Classifying ESG:  92%|█████████▏| 5703/6169 [53:10<04:11,  1.85it/s]"
          ]
        },
        {
          "output_type": "stream",
          "name": "stdout",
          "text": [
            "Saving progress at batch 5704...\n"
          ]
        },
        {
          "output_type": "stream",
          "name": "stderr",
          "text": [
            "Classifying ESG:  93%|█████████▎| 5734/6169 [53:29<03:47,  1.91it/s]"
          ]
        },
        {
          "output_type": "stream",
          "name": "stdout",
          "text": [
            "Saving progress at batch 5735...\n"
          ]
        },
        {
          "output_type": "stream",
          "name": "stderr",
          "text": [
            "Classifying ESG:  93%|█████████▎| 5765/6169 [53:47<03:16,  2.06it/s]"
          ]
        },
        {
          "output_type": "stream",
          "name": "stdout",
          "text": [
            "Saving progress at batch 5766...\n"
          ]
        },
        {
          "output_type": "stream",
          "name": "stderr",
          "text": [
            "Classifying ESG:  94%|█████████▍| 5796/6169 [54:05<03:12,  1.93it/s]"
          ]
        },
        {
          "output_type": "stream",
          "name": "stdout",
          "text": [
            "Saving progress at batch 5797...\n"
          ]
        },
        {
          "output_type": "stream",
          "name": "stderr",
          "text": [
            "Classifying ESG:  94%|█████████▍| 5827/6169 [54:24<02:58,  1.92it/s]"
          ]
        },
        {
          "output_type": "stream",
          "name": "stdout",
          "text": [
            "Saving progress at batch 5828...\n"
          ]
        },
        {
          "output_type": "stream",
          "name": "stderr",
          "text": [
            "Classifying ESG:  95%|█████████▍| 5858/6169 [54:42<02:28,  2.09it/s]"
          ]
        },
        {
          "output_type": "stream",
          "name": "stdout",
          "text": [
            "Saving progress at batch 5859...\n"
          ]
        },
        {
          "output_type": "stream",
          "name": "stderr",
          "text": [
            "Classifying ESG:  95%|█████████▌| 5889/6169 [55:00<02:30,  1.86it/s]"
          ]
        },
        {
          "output_type": "stream",
          "name": "stdout",
          "text": [
            "Saving progress at batch 5890...\n"
          ]
        },
        {
          "output_type": "stream",
          "name": "stderr",
          "text": [
            "Classifying ESG:  96%|█████████▌| 5920/6169 [55:19<02:06,  1.96it/s]"
          ]
        },
        {
          "output_type": "stream",
          "name": "stdout",
          "text": [
            "Saving progress at batch 5921...\n"
          ]
        },
        {
          "output_type": "stream",
          "name": "stderr",
          "text": [
            "Classifying ESG:  96%|█████████▋| 5951/6169 [55:37<01:44,  2.09it/s]"
          ]
        },
        {
          "output_type": "stream",
          "name": "stdout",
          "text": [
            "Saving progress at batch 5952...\n"
          ]
        },
        {
          "output_type": "stream",
          "name": "stderr",
          "text": [
            "Classifying ESG:  97%|█████████▋| 5982/6169 [55:55<01:38,  1.90it/s]"
          ]
        },
        {
          "output_type": "stream",
          "name": "stdout",
          "text": [
            "Saving progress at batch 5983...\n"
          ]
        },
        {
          "output_type": "stream",
          "name": "stderr",
          "text": [
            "Classifying ESG:  97%|█████████▋| 6013/6169 [56:14<01:21,  1.90it/s]"
          ]
        },
        {
          "output_type": "stream",
          "name": "stdout",
          "text": [
            "Saving progress at batch 6014...\n"
          ]
        },
        {
          "output_type": "stream",
          "name": "stderr",
          "text": [
            "Classifying ESG:  98%|█████████▊| 6044/6169 [56:32<01:00,  2.08it/s]"
          ]
        },
        {
          "output_type": "stream",
          "name": "stdout",
          "text": [
            "Saving progress at batch 6045...\n"
          ]
        },
        {
          "output_type": "stream",
          "name": "stderr",
          "text": [
            "Classifying ESG:  98%|█████████▊| 6075/6169 [56:51<00:46,  2.00it/s]"
          ]
        },
        {
          "output_type": "stream",
          "name": "stdout",
          "text": [
            "Saving progress at batch 6076...\n"
          ]
        },
        {
          "output_type": "stream",
          "name": "stderr",
          "text": [
            "Classifying ESG:  99%|█████████▉| 6106/6169 [57:10<00:32,  1.95it/s]"
          ]
        },
        {
          "output_type": "stream",
          "name": "stdout",
          "text": [
            "Saving progress at batch 6107...\n"
          ]
        },
        {
          "output_type": "stream",
          "name": "stderr",
          "text": [
            "Classifying ESG:  99%|█████████▉| 6137/6169 [57:28<00:15,  2.08it/s]"
          ]
        },
        {
          "output_type": "stream",
          "name": "stdout",
          "text": [
            "Saving progress at batch 6138...\n"
          ]
        },
        {
          "output_type": "stream",
          "name": "stderr",
          "text": [
            "Classifying ESG: 100%|█████████▉| 6168/6169 [57:46<00:00,  1.77it/s]"
          ]
        },
        {
          "output_type": "stream",
          "name": "stdout",
          "text": [
            "Saving progress at batch 6169...\n"
          ]
        },
        {
          "output_type": "stream",
          "name": "stderr",
          "text": [
            "Classifying ESG: 100%|██████████| 6169/6169 [57:49<00:00,  1.78it/s]\n"
          ]
        }
      ]
    },
    {
      "cell_type": "markdown",
      "source": [
        "# Action and specificity classifications"
      ],
      "metadata": {
        "id": "Bw3KyGQ3mo1G"
      }
    },
    {
      "cell_type": "code",
      "source": [
        "import pandas as pd\n",
        "\n",
        "# Specify the path to the file in Google Drive\n",
        "file_path = '/content/drive/My Drive/KU/kandidat/speciale/R/esg_classifications.csv'\n",
        "data = pd.read_csv(file_path)\n"
      ],
      "metadata": {
        "id": "1VHWR1Eum06R"
      },
      "execution_count": 3,
      "outputs": []
    },
    {
      "cell_type": "code",
      "source": [
        "from transformers import pipeline\n",
        "\n",
        "# Specify the paths to the fine-tuned models\n",
        "act_model_path = \"/content/drive/My Drive/KU/kandidat/speciale/R/finetuned_esgbert_action_model\"\n",
        "specific_model_path = \"/content/drive/My Drive/KU/kandidat/speciale/R/finetuned_climatebert_specificity_model\"\n",
        "\n",
        "# Load pipelines for each ESG model\n",
        "act_pipeline = pipeline(\n",
        "    'text-classification',\n",
        "    model=act_model_path,\n",
        "    tokenizer=act_model_path,\n",
        "    device=0\n",
        ")\n",
        "\n",
        "specific_pipeline = pipeline(\n",
        "    'text-classification',\n",
        "    model=specific_model_path,\n",
        "    tokenizer=specific_model_path,\n",
        "    device=0\n",
        ")\n",
        "\n",
        "# Verify the pipelines are loaded\n",
        "print(\"action pipeline loaded.\")\n",
        "print(\"specificity pipeline loaded.\")\n"
      ],
      "metadata": {
        "colab": {
          "base_uri": "https://localhost:8080/"
        },
        "id": "UioI8JOonNwM",
        "outputId": "561aa185-5eaf-45a8-85e6-44c039edf7e0"
      },
      "execution_count": 4,
      "outputs": [
        {
          "output_type": "stream",
          "name": "stderr",
          "text": [
            "Device set to use cuda:0\n",
            "Device set to use cuda:0\n"
          ]
        },
        {
          "output_type": "stream",
          "name": "stdout",
          "text": [
            "action pipeline loaded.\n",
            "specificity pipeline loaded.\n"
          ]
        }
      ]
    },
    {
      "cell_type": "code",
      "source": [
        "import pandas as pd\n",
        "from transformers import pipeline\n",
        "from tqdm import tqdm\n",
        "\n",
        "# Paths\n",
        "data_file_path = '/content/drive/My Drive/KU/kandidat/speciale/R/esg_classifications.csv'\n",
        "save_file_path = '/content/drive/My Drive/KU/kandidat/speciale/R/environmental_action_specificity.csv'\n",
        "\n",
        "# Model paths\n",
        "act_model_path = \"/content/drive/My Drive/KU/kandidat/speciale/R/finetuned_esgbert_action_model\"\n",
        "specific_model_path = \"/content/drive/My Drive/KU/kandidat/speciale/R/finetuned_climatebert_specificity_model\"\n",
        "\n",
        "# Load dataset\n",
        "data = pd.read_csv(data_file_path)\n",
        "\n",
        "# Filter only environmental sentences\n",
        "env_data = data[data['env_label'] == 'LABEL_1']\n",
        "\n",
        "# Load existing results or start fresh\n",
        "try:\n",
        "    df_saved_results = pd.read_csv(save_file_path)\n",
        "    print(f\"Loaded saved results. Sentences already processed: {df_saved_results['id'].nunique()}\")\n",
        "except FileNotFoundError:\n",
        "    print(\"No previous results found. Starting fresh.\")\n",
        "    df_saved_results = pd.DataFrame(columns=['id', 'text', 'action_label', 'action_score', 'specificity_label', 'specificity_score'])\n",
        "\n",
        "# Identify sentences that still need to be classified\n",
        "processed_ids = df_saved_results['id'].unique()\n",
        "remaining_data = env_data[~env_data['id'].isin(processed_ids)]\n",
        "\n",
        "# Load pipelines\n",
        "act_pipeline = pipeline('text-classification', model=act_model_path, tokenizer=act_model_path, device=0)\n",
        "specific_pipeline = pipeline('text-classification', model=specific_model_path, tokenizer=specific_model_path, device=0)\n",
        "\n",
        "# Function to classify sentences with action and specificity models\n",
        "def classify_sentences(data, df_saved_results, act_pipeline, specific_pipeline, save_interval=1000, save_file_path=save_file_path):\n",
        "    all_results = []\n",
        "\n",
        "    try:\n",
        "        for start_idx in tqdm(range(0, data.shape[0], 32), desc=\"Classifying Action and Specificity\"):\n",
        "            batch = data.iloc[start_idx:start_idx + 32]\n",
        "            sentences = batch['text'].tolist()\n",
        "            ids = batch['id'].tolist()\n",
        "\n",
        "            # Classify batch for Action\n",
        "            action_classifications = act_pipeline(sentences, padding=True, truncation=True)\n",
        "\n",
        "            # Classify batch for Specificity\n",
        "            specificity_classifications = specific_pipeline(sentences, padding=True, truncation=True)\n",
        "\n",
        "            for i in range(len(sentences)):\n",
        "                row_data = {\n",
        "                    \"id\": ids[i],\n",
        "                    \"text\": sentences[i],\n",
        "                    \"action_label\": action_classifications[i][\"label\"],\n",
        "                    \"action_score\": action_classifications[i][\"score\"],\n",
        "                    \"specificity_label\": specificity_classifications[i][\"label\"],\n",
        "                    \"specificity_score\": specificity_classifications[i][\"score\"]\n",
        "                }\n",
        "                all_results.append(row_data)\n",
        "\n",
        "            # Save intermediate results\n",
        "            if (start_idx // 32 + 1) % (save_interval // 32) == 0:\n",
        "                print(f\"Saving progress at batch {start_idx // 32 + 1}...\")\n",
        "                df_saved_results = pd.concat([df_saved_results, pd.DataFrame(all_results)], ignore_index=True)\n",
        "                df_saved_results.to_csv(save_file_path, index=False)\n",
        "                all_results = []\n",
        "\n",
        "        # Final save\n",
        "        if all_results:\n",
        "            df_saved_results = pd.concat([df_saved_results, pd.DataFrame(all_results)], ignore_index=True)\n",
        "            df_saved_results.to_csv(save_file_path, index=False)\n",
        "            print(f\"Final results saved to {save_file_path}\")\n",
        "\n",
        "    except Exception as e:\n",
        "        print(f\"An error occurred: {e}\")\n",
        "\n",
        "    return df_saved_results\n",
        "\n",
        "# Run classification\n",
        "if remaining_data.shape[0] > 0:\n",
        "    df_saved_results = classify_sentences(remaining_data, df_saved_results, act_pipeline, specific_pipeline)\n",
        "else:\n",
        "    print(\"All sentences have already been classified.\")\n"
      ],
      "metadata": {
        "colab": {
          "base_uri": "https://localhost:8080/"
        },
        "id": "255QR39tn0jo",
        "outputId": "3d86106a-6420-411e-9a4a-19dd0df66c89"
      },
      "execution_count": 5,
      "outputs": [
        {
          "output_type": "stream",
          "name": "stdout",
          "text": [
            "No previous results found. Starting fresh.\n"
          ]
        },
        {
          "output_type": "stream",
          "name": "stderr",
          "text": [
            "Device set to use cuda:0\n",
            "Device set to use cuda:0\n",
            "Classifying Action and Specificity:   1%|          | 10/1776 [00:04<11:25,  2.58it/s]You seem to be using the pipelines sequentially on GPU. In order to maximize efficiency please use a dataset\n",
            "Classifying Action and Specificity:   2%|▏         | 30/1776 [00:12<09:52,  2.95it/s]<ipython-input-5-7fd0d6392cae>:65: FutureWarning: The behavior of DataFrame concatenation with empty or all-NA entries is deprecated. In a future version, this will no longer exclude empty or all-NA columns when determining the result dtypes. To retain the old behavior, exclude the relevant entries before the concat operation.\n",
            "  df_saved_results = pd.concat([df_saved_results, pd.DataFrame(all_results)], ignore_index=True)\n",
            "Classifying Action and Specificity:   2%|▏         | 31/1776 [00:12<10:09,  2.86it/s]"
          ]
        },
        {
          "output_type": "stream",
          "name": "stdout",
          "text": [
            "Saving progress at batch 31...\n"
          ]
        },
        {
          "output_type": "stream",
          "name": "stderr",
          "text": [
            "Classifying Action and Specificity:   3%|▎         | 62/1776 [00:24<10:27,  2.73it/s]"
          ]
        },
        {
          "output_type": "stream",
          "name": "stdout",
          "text": [
            "Saving progress at batch 62...\n"
          ]
        },
        {
          "output_type": "stream",
          "name": "stderr",
          "text": [
            "Classifying Action and Specificity:   5%|▌         | 93/1776 [00:36<14:09,  1.98it/s]"
          ]
        },
        {
          "output_type": "stream",
          "name": "stdout",
          "text": [
            "Saving progress at batch 93...\n"
          ]
        },
        {
          "output_type": "stream",
          "name": "stderr",
          "text": [
            "Classifying Action and Specificity:   7%|▋         | 124/1776 [00:47<11:02,  2.49it/s]"
          ]
        },
        {
          "output_type": "stream",
          "name": "stdout",
          "text": [
            "Saving progress at batch 124...\n"
          ]
        },
        {
          "output_type": "stream",
          "name": "stderr",
          "text": [
            "Classifying Action and Specificity:   9%|▊         | 155/1776 [00:58<09:53,  2.73it/s]"
          ]
        },
        {
          "output_type": "stream",
          "name": "stdout",
          "text": [
            "Saving progress at batch 155...\n"
          ]
        },
        {
          "output_type": "stream",
          "name": "stderr",
          "text": [
            "Classifying Action and Specificity:  10%|█         | 186/1776 [01:10<09:47,  2.71it/s]"
          ]
        },
        {
          "output_type": "stream",
          "name": "stdout",
          "text": [
            "Saving progress at batch 186...\n"
          ]
        },
        {
          "output_type": "stream",
          "name": "stderr",
          "text": [
            "Classifying Action and Specificity:  12%|█▏        | 217/1776 [01:22<09:35,  2.71it/s]"
          ]
        },
        {
          "output_type": "stream",
          "name": "stdout",
          "text": [
            "Saving progress at batch 217...\n"
          ]
        },
        {
          "output_type": "stream",
          "name": "stderr",
          "text": [
            "Classifying Action and Specificity:  14%|█▍        | 248/1776 [01:34<10:27,  2.44it/s]"
          ]
        },
        {
          "output_type": "stream",
          "name": "stdout",
          "text": [
            "Saving progress at batch 248...\n"
          ]
        },
        {
          "output_type": "stream",
          "name": "stderr",
          "text": [
            "Classifying Action and Specificity:  16%|█▌        | 279/1776 [01:46<12:23,  2.01it/s]"
          ]
        },
        {
          "output_type": "stream",
          "name": "stdout",
          "text": [
            "Saving progress at batch 279...\n"
          ]
        },
        {
          "output_type": "stream",
          "name": "stderr",
          "text": [
            "Classifying Action and Specificity:  17%|█▋        | 310/1776 [01:57<08:54,  2.74it/s]"
          ]
        },
        {
          "output_type": "stream",
          "name": "stdout",
          "text": [
            "Saving progress at batch 310...\n"
          ]
        },
        {
          "output_type": "stream",
          "name": "stderr",
          "text": [
            "Classifying Action and Specificity:  19%|█▉        | 341/1776 [02:09<08:45,  2.73it/s]"
          ]
        },
        {
          "output_type": "stream",
          "name": "stdout",
          "text": [
            "Saving progress at batch 341...\n"
          ]
        },
        {
          "output_type": "stream",
          "name": "stderr",
          "text": [
            "Classifying Action and Specificity:  21%|██        | 372/1776 [02:21<09:02,  2.59it/s]"
          ]
        },
        {
          "output_type": "stream",
          "name": "stdout",
          "text": [
            "Saving progress at batch 372...\n"
          ]
        },
        {
          "output_type": "stream",
          "name": "stderr",
          "text": [
            "Classifying Action and Specificity:  23%|██▎       | 403/1776 [02:33<08:47,  2.60it/s]"
          ]
        },
        {
          "output_type": "stream",
          "name": "stdout",
          "text": [
            "Saving progress at batch 403...\n"
          ]
        },
        {
          "output_type": "stream",
          "name": "stderr",
          "text": [
            "Classifying Action and Specificity:  24%|██▍       | 434/1776 [02:45<10:17,  2.17it/s]"
          ]
        },
        {
          "output_type": "stream",
          "name": "stdout",
          "text": [
            "Saving progress at batch 434...\n"
          ]
        },
        {
          "output_type": "stream",
          "name": "stderr",
          "text": [
            "Classifying Action and Specificity:  26%|██▌       | 464/1776 [02:56<09:42,  2.25it/s]"
          ]
        },
        {
          "output_type": "stream",
          "name": "stdout",
          "text": [
            "Saving progress at batch 465...\n"
          ]
        },
        {
          "output_type": "stream",
          "name": "stderr",
          "text": [
            "Classifying Action and Specificity:  28%|██▊       | 496/1776 [03:08<08:14,  2.59it/s]"
          ]
        },
        {
          "output_type": "stream",
          "name": "stdout",
          "text": [
            "Saving progress at batch 496...\n"
          ]
        },
        {
          "output_type": "stream",
          "name": "stderr",
          "text": [
            "Classifying Action and Specificity:  30%|██▉       | 527/1776 [03:21<08:20,  2.50it/s]"
          ]
        },
        {
          "output_type": "stream",
          "name": "stdout",
          "text": [
            "Saving progress at batch 527...\n"
          ]
        },
        {
          "output_type": "stream",
          "name": "stderr",
          "text": [
            "Classifying Action and Specificity:  31%|███▏      | 558/1776 [03:33<07:56,  2.56it/s]"
          ]
        },
        {
          "output_type": "stream",
          "name": "stdout",
          "text": [
            "Saving progress at batch 558...\n"
          ]
        },
        {
          "output_type": "stream",
          "name": "stderr",
          "text": [
            "Classifying Action and Specificity:  33%|███▎      | 589/1776 [03:45<08:00,  2.47it/s]"
          ]
        },
        {
          "output_type": "stream",
          "name": "stdout",
          "text": [
            "Saving progress at batch 589...\n"
          ]
        },
        {
          "output_type": "stream",
          "name": "stderr",
          "text": [
            "Classifying Action and Specificity:  35%|███▍      | 620/1776 [03:57<08:24,  2.29it/s]"
          ]
        },
        {
          "output_type": "stream",
          "name": "stdout",
          "text": [
            "Saving progress at batch 620...\n"
          ]
        },
        {
          "output_type": "stream",
          "name": "stderr",
          "text": [
            "Classifying Action and Specificity:  37%|███▋      | 650/1776 [04:09<08:45,  2.14it/s]"
          ]
        },
        {
          "output_type": "stream",
          "name": "stdout",
          "text": [
            "Saving progress at batch 651...\n"
          ]
        },
        {
          "output_type": "stream",
          "name": "stderr",
          "text": [
            "Classifying Action and Specificity:  38%|███▊      | 681/1776 [04:20<07:33,  2.41it/s]"
          ]
        },
        {
          "output_type": "stream",
          "name": "stdout",
          "text": [
            "Saving progress at batch 682...\n"
          ]
        },
        {
          "output_type": "stream",
          "name": "stderr",
          "text": [
            "Classifying Action and Specificity:  40%|████      | 712/1776 [04:32<06:19,  2.80it/s]"
          ]
        },
        {
          "output_type": "stream",
          "name": "stdout",
          "text": [
            "Saving progress at batch 713...\n"
          ]
        },
        {
          "output_type": "stream",
          "name": "stderr",
          "text": [
            "Classifying Action and Specificity:  42%|████▏     | 744/1776 [04:45<06:53,  2.50it/s]"
          ]
        },
        {
          "output_type": "stream",
          "name": "stdout",
          "text": [
            "Saving progress at batch 744...\n"
          ]
        },
        {
          "output_type": "stream",
          "name": "stderr",
          "text": [
            "Classifying Action and Specificity:  44%|████▎     | 774/1776 [04:56<05:42,  2.92it/s]"
          ]
        },
        {
          "output_type": "stream",
          "name": "stdout",
          "text": [
            "Saving progress at batch 775...\n"
          ]
        },
        {
          "output_type": "stream",
          "name": "stderr",
          "text": [
            "Classifying Action and Specificity:  45%|████▌     | 805/1776 [05:08<05:37,  2.88it/s]"
          ]
        },
        {
          "output_type": "stream",
          "name": "stdout",
          "text": [
            "Saving progress at batch 806...\n"
          ]
        },
        {
          "output_type": "stream",
          "name": "stderr",
          "text": [
            "Classifying Action and Specificity:  47%|████▋     | 836/1776 [05:20<06:22,  2.46it/s]"
          ]
        },
        {
          "output_type": "stream",
          "name": "stdout",
          "text": [
            "Saving progress at batch 837...\n"
          ]
        },
        {
          "output_type": "stream",
          "name": "stderr",
          "text": [
            "Classifying Action and Specificity:  49%|████▉     | 867/1776 [05:32<06:47,  2.23it/s]"
          ]
        },
        {
          "output_type": "stream",
          "name": "stdout",
          "text": [
            "Saving progress at batch 868...\n"
          ]
        },
        {
          "output_type": "stream",
          "name": "stderr",
          "text": [
            "Classifying Action and Specificity:  51%|█████     | 898/1776 [05:44<06:24,  2.29it/s]"
          ]
        },
        {
          "output_type": "stream",
          "name": "stdout",
          "text": [
            "Saving progress at batch 899...\n"
          ]
        },
        {
          "output_type": "stream",
          "name": "stderr",
          "text": [
            "Classifying Action and Specificity:  52%|█████▏    | 929/1776 [05:57<05:06,  2.76it/s]"
          ]
        },
        {
          "output_type": "stream",
          "name": "stdout",
          "text": [
            "Saving progress at batch 930...\n"
          ]
        },
        {
          "output_type": "stream",
          "name": "stderr",
          "text": [
            "Classifying Action and Specificity:  54%|█████▍    | 960/1776 [06:10<04:43,  2.88it/s]"
          ]
        },
        {
          "output_type": "stream",
          "name": "stdout",
          "text": [
            "Saving progress at batch 961...\n"
          ]
        },
        {
          "output_type": "stream",
          "name": "stderr",
          "text": [
            "Classifying Action and Specificity:  56%|█████▌    | 991/1776 [06:22<04:24,  2.97it/s]"
          ]
        },
        {
          "output_type": "stream",
          "name": "stdout",
          "text": [
            "Saving progress at batch 992...\n"
          ]
        },
        {
          "output_type": "stream",
          "name": "stderr",
          "text": [
            "Classifying Action and Specificity:  58%|█████▊    | 1022/1776 [06:34<04:16,  2.94it/s]"
          ]
        },
        {
          "output_type": "stream",
          "name": "stdout",
          "text": [
            "Saving progress at batch 1023...\n"
          ]
        },
        {
          "output_type": "stream",
          "name": "stderr",
          "text": [
            "Classifying Action and Specificity:  59%|█████▉    | 1053/1776 [06:46<04:12,  2.86it/s]"
          ]
        },
        {
          "output_type": "stream",
          "name": "stdout",
          "text": [
            "Saving progress at batch 1054...\n"
          ]
        },
        {
          "output_type": "stream",
          "name": "stderr",
          "text": [
            "Classifying Action and Specificity:  61%|██████    | 1084/1776 [06:58<05:41,  2.03it/s]"
          ]
        },
        {
          "output_type": "stream",
          "name": "stdout",
          "text": [
            "Saving progress at batch 1085...\n"
          ]
        },
        {
          "output_type": "stream",
          "name": "stderr",
          "text": [
            "Classifying Action and Specificity:  63%|██████▎   | 1115/1776 [07:10<04:44,  2.33it/s]"
          ]
        },
        {
          "output_type": "stream",
          "name": "stdout",
          "text": [
            "Saving progress at batch 1116...\n"
          ]
        },
        {
          "output_type": "stream",
          "name": "stderr",
          "text": [
            "Classifying Action and Specificity:  65%|██████▍   | 1146/1776 [07:22<03:37,  2.90it/s]"
          ]
        },
        {
          "output_type": "stream",
          "name": "stdout",
          "text": [
            "Saving progress at batch 1147...\n"
          ]
        },
        {
          "output_type": "stream",
          "name": "stderr",
          "text": [
            "Classifying Action and Specificity:  66%|██████▋   | 1177/1776 [07:34<03:28,  2.88it/s]"
          ]
        },
        {
          "output_type": "stream",
          "name": "stdout",
          "text": [
            "Saving progress at batch 1178...\n"
          ]
        },
        {
          "output_type": "stream",
          "name": "stderr",
          "text": [
            "Classifying Action and Specificity:  68%|██████▊   | 1208/1776 [07:47<03:20,  2.84it/s]"
          ]
        },
        {
          "output_type": "stream",
          "name": "stdout",
          "text": [
            "Saving progress at batch 1209...\n"
          ]
        },
        {
          "output_type": "stream",
          "name": "stderr",
          "text": [
            "Classifying Action and Specificity:  70%|██████▉   | 1239/1776 [07:59<03:04,  2.92it/s]"
          ]
        },
        {
          "output_type": "stream",
          "name": "stdout",
          "text": [
            "Saving progress at batch 1240...\n"
          ]
        },
        {
          "output_type": "stream",
          "name": "stderr",
          "text": [
            "Classifying Action and Specificity:  72%|███████▏  | 1270/1776 [08:11<03:07,  2.69it/s]"
          ]
        },
        {
          "output_type": "stream",
          "name": "stdout",
          "text": [
            "Saving progress at batch 1271...\n"
          ]
        },
        {
          "output_type": "stream",
          "name": "stderr",
          "text": [
            "Classifying Action and Specificity:  73%|███████▎  | 1301/1776 [08:24<03:53,  2.04it/s]"
          ]
        },
        {
          "output_type": "stream",
          "name": "stdout",
          "text": [
            "Saving progress at batch 1302...\n"
          ]
        },
        {
          "output_type": "stream",
          "name": "stderr",
          "text": [
            "Classifying Action and Specificity:  75%|███████▌  | 1332/1776 [08:35<03:11,  2.31it/s]"
          ]
        },
        {
          "output_type": "stream",
          "name": "stdout",
          "text": [
            "Saving progress at batch 1333...\n"
          ]
        },
        {
          "output_type": "stream",
          "name": "stderr",
          "text": [
            "Classifying Action and Specificity:  77%|███████▋  | 1363/1776 [08:47<02:22,  2.89it/s]"
          ]
        },
        {
          "output_type": "stream",
          "name": "stdout",
          "text": [
            "Saving progress at batch 1364...\n"
          ]
        },
        {
          "output_type": "stream",
          "name": "stderr",
          "text": [
            "Classifying Action and Specificity:  78%|███████▊  | 1394/1776 [09:00<02:10,  2.93it/s]"
          ]
        },
        {
          "output_type": "stream",
          "name": "stdout",
          "text": [
            "Saving progress at batch 1395...\n"
          ]
        },
        {
          "output_type": "stream",
          "name": "stderr",
          "text": [
            "Classifying Action and Specificity:  80%|████████  | 1425/1776 [09:12<02:02,  2.87it/s]"
          ]
        },
        {
          "output_type": "stream",
          "name": "stdout",
          "text": [
            "Saving progress at batch 1426...\n"
          ]
        },
        {
          "output_type": "stream",
          "name": "stderr",
          "text": [
            "Classifying Action and Specificity:  82%|████████▏ | 1456/1776 [09:24<01:49,  2.92it/s]"
          ]
        },
        {
          "output_type": "stream",
          "name": "stdout",
          "text": [
            "Saving progress at batch 1457...\n"
          ]
        },
        {
          "output_type": "stream",
          "name": "stderr",
          "text": [
            "Classifying Action and Specificity:  84%|████████▎ | 1487/1776 [09:37<01:43,  2.80it/s]"
          ]
        },
        {
          "output_type": "stream",
          "name": "stdout",
          "text": [
            "Saving progress at batch 1488...\n"
          ]
        },
        {
          "output_type": "stream",
          "name": "stderr",
          "text": [
            "Classifying Action and Specificity:  85%|████████▌ | 1518/1776 [09:49<01:51,  2.32it/s]"
          ]
        },
        {
          "output_type": "stream",
          "name": "stdout",
          "text": [
            "Saving progress at batch 1519...\n"
          ]
        },
        {
          "output_type": "stream",
          "name": "stderr",
          "text": [
            "Classifying Action and Specificity:  87%|████████▋ | 1549/1776 [10:01<01:40,  2.25it/s]"
          ]
        },
        {
          "output_type": "stream",
          "name": "stdout",
          "text": [
            "Saving progress at batch 1550...\n"
          ]
        },
        {
          "output_type": "stream",
          "name": "stderr",
          "text": [
            "Classifying Action and Specificity:  89%|████████▉ | 1580/1776 [10:13<01:08,  2.87it/s]"
          ]
        },
        {
          "output_type": "stream",
          "name": "stdout",
          "text": [
            "Saving progress at batch 1581...\n"
          ]
        },
        {
          "output_type": "stream",
          "name": "stderr",
          "text": [
            "Classifying Action and Specificity:  91%|█████████ | 1611/1776 [10:25<00:55,  2.97it/s]"
          ]
        },
        {
          "output_type": "stream",
          "name": "stdout",
          "text": [
            "Saving progress at batch 1612...\n"
          ]
        },
        {
          "output_type": "stream",
          "name": "stderr",
          "text": [
            "Classifying Action and Specificity:  92%|█████████▏| 1642/1776 [10:37<00:46,  2.91it/s]"
          ]
        },
        {
          "output_type": "stream",
          "name": "stdout",
          "text": [
            "Saving progress at batch 1643...\n"
          ]
        },
        {
          "output_type": "stream",
          "name": "stderr",
          "text": [
            "Classifying Action and Specificity:  94%|█████████▍| 1673/1776 [10:49<00:35,  2.94it/s]"
          ]
        },
        {
          "output_type": "stream",
          "name": "stdout",
          "text": [
            "Saving progress at batch 1674...\n"
          ]
        },
        {
          "output_type": "stream",
          "name": "stderr",
          "text": [
            "Classifying Action and Specificity:  96%|█████████▌| 1704/1776 [11:01<00:25,  2.87it/s]"
          ]
        },
        {
          "output_type": "stream",
          "name": "stdout",
          "text": [
            "Saving progress at batch 1705...\n"
          ]
        },
        {
          "output_type": "stream",
          "name": "stderr",
          "text": [
            "Classifying Action and Specificity:  98%|█████████▊| 1735/1776 [11:14<00:17,  2.35it/s]"
          ]
        },
        {
          "output_type": "stream",
          "name": "stdout",
          "text": [
            "Saving progress at batch 1736...\n"
          ]
        },
        {
          "output_type": "stream",
          "name": "stderr",
          "text": [
            "Classifying Action and Specificity:  99%|█████████▉| 1766/1776 [11:26<00:04,  2.10it/s]"
          ]
        },
        {
          "output_type": "stream",
          "name": "stdout",
          "text": [
            "Saving progress at batch 1767...\n"
          ]
        },
        {
          "output_type": "stream",
          "name": "stderr",
          "text": [
            "Classifying Action and Specificity: 100%|██████████| 1776/1776 [11:30<00:00,  2.57it/s]\n"
          ]
        },
        {
          "output_type": "stream",
          "name": "stdout",
          "text": [
            "Final results saved to /content/drive/My Drive/KU/kandidat/speciale/R/environmental_action_specificity.csv\n"
          ]
        }
      ]
    }
  ]
}